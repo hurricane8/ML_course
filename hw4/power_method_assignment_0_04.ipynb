{
 "cells": [
  {
   "cell_type": "markdown",
   "metadata": {
    "id": "-2pjXks_0tmd"
   },
   "source": [
    "# Home assignment 03: Power method"
   ]
  },
  {
   "cell_type": "markdown",
   "metadata": {
    "id": "WPYirA190tmg"
   },
   "source": [
    "Today your goal is to implement the Power method of eigenvalues and eigenvectors computation and test it on syntetic data. Details are available at [Wikipedia](https://ru.wikipedia.org/wiki/Степенной_метод).\n",
    "\n",
    "Please, note, that provided method should be applicable to compute the smallest eigenvalue as well (in absolute values)."
   ]
  },
  {
   "cell_type": "markdown",
   "metadata": {},
   "source": [
    "Just in case, for eigenvalue $\\lambda$ and eigenvector $v$ of matrix $A$ the following equation holds:\n",
    "$$\n",
    "Ax = \\lambda x\n",
    "$$"
   ]
  },
  {
   "cell_type": "code",
   "execution_count": 2,
   "metadata": {
    "ExecuteTime": {
     "end_time": "2020-02-11T07:08:51.904850Z",
     "start_time": "2020-02-11T07:08:50.413258Z"
    },
    "id": "4pqgXdtr0tmh"
   },
   "outputs": [],
   "source": [
    "import numpy as np"
   ]
  },
  {
   "cell_type": "code",
   "execution_count": 15,
   "metadata": {},
   "outputs": [],
   "source": [
    "def get_dominant_eigenvalue_and_eigenvector(data, num_steps):\n",
    "    \"\"\"\n",
    "    data: np.ndarray – symmetric diagonalizable real-valued matrix\n",
    "    num_steps: int – number of power method steps\n",
    "    \n",
    "    Returns:\n",
    "    eigenvalue: float – dominant eigenvalue estimation after `num_steps` steps\n",
    "    eigenvector: np.ndarray – corresponding eigenvector estimation\n",
    "    \"\"\"\n",
    "    eigenvector = np.random.uniform(0, 1, data.shape[0])\n",
    "    \n",
    "    for i in range (num_steps):\n",
    "        eigenvector = data.dot(eigenvector) / np.linalg.norm(data.dot(eigenvector))\n",
    "    eigenvalue = float(eigenvector.dot(data.dot(eigenvector))/ (eigenvector.dot(eigenvector)))\n",
    "\n",
    "    return eigenvalue, eigenvector\n",
    "\n"
   ]
  },
  {
   "cell_type": "code",
   "execution_count": 16,
   "metadata": {},
   "outputs": [],
   "source": [
    "def get_eigenvalues_and_eigenvectors_with_numpy(data):\n",
    "    _eigenvalues, _eigenvectors = np.linalg.eig(data)\n",
    "    max_index = np.argmax(np.abs(_eigenvalues))\n",
    "    min_index = np.argmin(np.abs(_eigenvalues))\n",
    "\n",
    "    _test_pair_a = np.array([_eigenvalues[max_index], _eigenvalues[min_index]])\n",
    "    _test_pair_b = np.array([_eigenvectors[:, max_index], _eigenvectors[:, min_index]])\n",
    "    if _test_pair_b[0][0] < 0:\n",
    "        _test_pair_b[0] *= -1\n",
    "    if _test_pair_b[1][0] < 0:\n",
    "        _test_pair_b[1] *= -1\n",
    "        \n",
    "    return _test_pair_a, _test_pair_b"
   ]
  },
  {
   "cell_type": "code",
   "execution_count": 17,
   "metadata": {},
   "outputs": [
    {
     "ename": "TypeError",
     "evalue": "only size-1 arrays can be converted to Python scalars",
     "output_type": "error",
     "traceback": [
      "\u001b[0;31m---------------------------------------------------------------------------\u001b[0m",
      "\u001b[0;31mTypeError\u001b[0m                                 Traceback (most recent call last)",
      "\u001b[0;32m/var/folders/2z/h4ypwr2j2f70t152_xqwp5w40000gn/T/ipykernel_6238/1497166135.py\u001b[0m in \u001b[0;36m<module>\u001b[0;34m\u001b[0m\n\u001b[1;32m      3\u001b[0m     \u001b[0mdata\u001b[0m \u001b[0;34m=\u001b[0m \u001b[0mnp\u001b[0m\u001b[0;34m.\u001b[0m\u001b[0mrandom\u001b[0m\u001b[0;34m.\u001b[0m\u001b[0mrandn\u001b[0m\u001b[0;34m(\u001b[0m\u001b[0msize\u001b[0m\u001b[0;34m,\u001b[0m \u001b[0msize\u001b[0m\u001b[0;34m)\u001b[0m\u001b[0;34m\u001b[0m\u001b[0;34m\u001b[0m\u001b[0m\n\u001b[1;32m      4\u001b[0m     \u001b[0mdata\u001b[0m \u001b[0;34m=\u001b[0m \u001b[0mdata\u001b[0m\u001b[0;34m.\u001b[0m\u001b[0mT\u001b[0m\u001b[0;34m.\u001b[0m\u001b[0mdot\u001b[0m\u001b[0;34m(\u001b[0m\u001b[0mdata\u001b[0m\u001b[0;34m)\u001b[0m\u001b[0;34m\u001b[0m\u001b[0;34m\u001b[0m\u001b[0m\n\u001b[0;32m----> 5\u001b[0;31m     \u001b[0ma0\u001b[0m\u001b[0;34m,\u001b[0m \u001b[0mb0\u001b[0m \u001b[0;34m=\u001b[0m \u001b[0mget_dominant_eigenvalue_and_eigenvector\u001b[0m\u001b[0;34m(\u001b[0m\u001b[0mdata\u001b[0m\u001b[0;34m,\u001b[0m \u001b[0;36m1000\u001b[0m\u001b[0;34m)\u001b[0m\u001b[0;34m\u001b[0m\u001b[0;34m\u001b[0m\u001b[0m\n\u001b[0m\u001b[1;32m      6\u001b[0m     \u001b[0;32massert\u001b[0m \u001b[0mtype\u001b[0m\u001b[0;34m(\u001b[0m\u001b[0ma0\u001b[0m\u001b[0;34m)\u001b[0m \u001b[0;34m==\u001b[0m \u001b[0mfloat\u001b[0m\u001b[0;34m,\u001b[0m \u001b[0;34m'Return type for eigenvalue is not Python float (please, note, numpy.float64 is a different type)'\u001b[0m\u001b[0;34m\u001b[0m\u001b[0;34m\u001b[0m\u001b[0m\n\u001b[1;32m      7\u001b[0m     \u001b[0;32massert\u001b[0m \u001b[0mtype\u001b[0m\u001b[0;34m(\u001b[0m\u001b[0mb0\u001b[0m\u001b[0;34m)\u001b[0m \u001b[0;34m==\u001b[0m \u001b[0mnp\u001b[0m\u001b[0;34m.\u001b[0m\u001b[0mndarray\u001b[0m\u001b[0;34m,\u001b[0m \u001b[0;34m'Return type for eigenvector is not np.ndarray'\u001b[0m\u001b[0;34m\u001b[0m\u001b[0;34m\u001b[0m\u001b[0m\n",
      "\u001b[0;32m/var/folders/2z/h4ypwr2j2f70t152_xqwp5w40000gn/T/ipykernel_6238/3062093826.py\u001b[0m in \u001b[0;36mget_dominant_eigenvalue_and_eigenvector\u001b[0;34m(data, num_steps)\u001b[0m\n\u001b[1;32m     12\u001b[0m     \u001b[0;32mfor\u001b[0m \u001b[0mi\u001b[0m \u001b[0;32min\u001b[0m \u001b[0mrange\u001b[0m \u001b[0;34m(\u001b[0m\u001b[0mnum_steps\u001b[0m\u001b[0;34m)\u001b[0m\u001b[0;34m:\u001b[0m\u001b[0;34m\u001b[0m\u001b[0;34m\u001b[0m\u001b[0m\n\u001b[1;32m     13\u001b[0m         \u001b[0meigenvector\u001b[0m \u001b[0;34m=\u001b[0m \u001b[0mdata\u001b[0m\u001b[0;34m.\u001b[0m\u001b[0mdot\u001b[0m\u001b[0;34m(\u001b[0m\u001b[0meigenvector\u001b[0m\u001b[0;34m)\u001b[0m \u001b[0;34m/\u001b[0m \u001b[0mnp\u001b[0m\u001b[0;34m.\u001b[0m\u001b[0mlinalg\u001b[0m\u001b[0;34m.\u001b[0m\u001b[0mnorm\u001b[0m\u001b[0;34m(\u001b[0m\u001b[0mdata\u001b[0m\u001b[0;34m.\u001b[0m\u001b[0mdot\u001b[0m\u001b[0;34m(\u001b[0m\u001b[0meigenvector\u001b[0m\u001b[0;34m)\u001b[0m\u001b[0;34m)\u001b[0m\u001b[0;34m\u001b[0m\u001b[0;34m\u001b[0m\u001b[0m\n\u001b[0;32m---> 14\u001b[0;31m     \u001b[0meigenvalue\u001b[0m \u001b[0;34m=\u001b[0m \u001b[0mfloat\u001b[0m\u001b[0;34m(\u001b[0m\u001b[0meigenvector\u001b[0m\u001b[0;34m.\u001b[0m\u001b[0mdot\u001b[0m\u001b[0;34m(\u001b[0m\u001b[0mdata\u001b[0m\u001b[0;34m.\u001b[0m\u001b[0mdot\u001b[0m\u001b[0;34m(\u001b[0m\u001b[0meigenvector\u001b[0m\u001b[0;34m)\u001b[0m\u001b[0;34m)\u001b[0m\u001b[0;34m/\u001b[0m \u001b[0;34m(\u001b[0m\u001b[0meigenvector\u001b[0m \u001b[0;34m**\u001b[0m \u001b[0;36m2\u001b[0m\u001b[0;34m)\u001b[0m\u001b[0;34m)\u001b[0m\u001b[0;34m\u001b[0m\u001b[0;34m\u001b[0m\u001b[0m\n\u001b[0m\u001b[1;32m     15\u001b[0m \u001b[0;34m\u001b[0m\u001b[0m\n\u001b[1;32m     16\u001b[0m     \u001b[0;32mreturn\u001b[0m \u001b[0meigenvalue\u001b[0m\u001b[0;34m,\u001b[0m \u001b[0meigenvector\u001b[0m\u001b[0;34m\u001b[0m\u001b[0;34m\u001b[0m\u001b[0m\n",
      "\u001b[0;31mTypeError\u001b[0m: only size-1 arrays can be converted to Python scalars"
     ]
    }
   ],
   "source": [
    "for _ in range(1000):\n",
    "    size = np.random.choice(np.arange(2, 5))\n",
    "    data = np.random.randn(size, size)\n",
    "    data = data.T.dot(data)\n",
    "    a0, b0 = get_dominant_eigenvalue_and_eigenvector(data, 1000)\n",
    "    assert type(a0) == float, 'Return type for eigenvalue is not Python float (please, note, numpy.float64 is a different type)'\n",
    "    assert type(b0) == np.ndarray, 'Return type for eigenvector is not np.ndarray'\n",
    "    \n",
    "    a1, b1 = get_dominant_eigenvalue_and_eigenvector(np.linalg.inv(data), 1000)\n",
    "    a1 = 1/a1\n",
    "\n",
    "    if b0[0] < 0:\n",
    "        b0 *= -1\n",
    "    if b1[0] < 0:\n",
    "        b1 *= -1\n",
    "        \n",
    "    assert np.allclose(data.dot(b0), a0 * b0, atol=1e-3), f'Ax != \\lambda x for the dominant eigenvalue check the solution!\\n{data.dot(b0), a0 * b0}'\n",
    "    assert np.allclose(data.dot(b1), a1 * b1, atol=1e-3), f'Ax != \\lambda x for the smallest eigenvalue check the solution!\\n{data.dot(b1), a1 * b1}'\n",
    "    \n",
    "    _test_pair_a, _test_pair_b = get_eigenvalues_and_eigenvectors_with_numpy(data)\n",
    "    \n",
    "    assert np.allclose(_test_pair_a, np.array([a0, a1]), atol=1e-3), f'Eigenvalues are different from np.linalg.eig!\\n{_test_pair_a, np.array([a0, a1])}'\n",
    "    assert np.allclose(_test_pair_b, np.array([b0, b1]), atol=1e-3), f'Eigenvectors are different from np.linalg.eig!\\n{_test_pair_b, np.array([b0, b1])}'\n",
    "    \n",
    "print('Seems fine! Copy function `get_dominant_eigenvalue_and_eigenvector` to the .py file and submit your solution to the contest!')    "
   ]
  },
  {
   "cell_type": "code",
   "execution_count": null,
   "metadata": {},
   "outputs": [],
   "source": []
  }
 ],
 "metadata": {
  "colab": {
   "provenance": []
  },
  "kernelspec": {
   "display_name": "Python 3 (ipykernel)",
   "language": "python",
   "name": "python3"
  },
  "language_info": {
   "codemirror_mode": {
    "name": "ipython",
    "version": 3
   },
   "file_extension": ".py",
   "mimetype": "text/x-python",
   "name": "python",
   "nbconvert_exporter": "python",
   "pygments_lexer": "ipython3",
   "version": "3.8.0"
  }
 },
 "nbformat": 4,
 "nbformat_minor": 1
}
