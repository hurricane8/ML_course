{
 "cells": [
  {
   "cell_type": "markdown",
   "metadata": {
    "colab_type": "text",
    "id": "NFmOh482SyEF"
   },
   "source": [
    "## Lab 2\n",
    "### Part 2: Dealing with overfitting"
   ]
  },
  {
   "cell_type": "markdown",
   "metadata": {
    "colab_type": "text",
    "id": "AjzAuO3oSvsI"
   },
   "source": [
    "Today we work with [Fashion-MNIST dataset](https://github.com/zalandoresearch/fashion-mnist) (*hint: it is available in `torchvision`*).\n",
    "\n",
    "Your goal for today:\n",
    "1. Train a FC (fully-connected) network that achieves >= 0.885 test accuracy.\n",
    "2. Cause considerable overfitting by modifying the network (e.g. increasing the number of network parameters and/or layers) and demonstrate in in the appropriate way (e.g. plot loss and accurasy on train and validation set w.r.t. network complexity).\n",
    "3. Try to deal with overfitting (at least partially) by using regularization techniques (Dropout/Batchnorm/...) and demonstrate the results.\n",
    "\n",
    "__Please, write a small report describing your ideas, tries and achieved results in the end of this file.__\n",
    "\n",
    "*Note*: Tasks 2 and 3 are interrelated, in task 3 your goal is to make the network from task 2 less prone to overfitting. Task 1 is independent from 2 and 3.\n",
    "\n",
    "*Note 2*: We recomment to use Google Colab or other machine with GPU acceleration."
   ]
  },
  {
   "cell_type": "code",
   "execution_count": 17,
   "metadata": {
    "colab": {},
    "colab_type": "code",
    "id": "_KBld6VOSwhW"
   },
   "outputs": [],
   "source": [
    "import torch\n",
    "import torch.nn as nn\n",
    "import torchvision\n",
    "import torchvision.transforms as transforms\n",
    "import torchsummary\n",
    "from IPython.display import clear_output\n",
    "from matplotlib import pyplot as plt\n",
    "from matplotlib.pyplot import figure\n",
    "import numpy as np\n",
    "import os\n",
    "import matplotlib.gridspec as gridspec\n",
    "from tqdm import tqdm\n",
    "\n",
    "\n",
    "device = 'cuda:0' if torch.cuda.is_available() else 'cpu'"
   ]
  },
  {
   "cell_type": "code",
   "execution_count": 2,
   "metadata": {
    "colab": {
     "base_uri": "https://localhost:8080/",
     "height": 35
    },
    "colab_type": "code",
    "id": "EdLOG0XqS_g5",
    "outputId": "1a58887c-24fc-4315-bb85-bdc88f4f485e"
   },
   "outputs": [
    {
     "name": "stdout",
     "output_type": "stream",
     "text": [
      "Directory fmnist is created!\n"
     ]
    }
   ],
   "source": [
    "# Technical function\n",
    "def mkdir(path):\n",
    "    if not os.path.exists(root_path):\n",
    "        os.mkdir(root_path)\n",
    "        print('Directory', path, 'is created!')\n",
    "    else:\n",
    "        print('Directory', path, 'already exists!')\n",
    "        \n",
    "root_path = 'fmnist'\n",
    "mkdir(root_path)"
   ]
  },
  {
   "cell_type": "code",
   "execution_count": 3,
   "metadata": {
    "colab": {
     "base_uri": "https://localhost:8080/",
     "height": 397,
     "referenced_widgets": [
      "a00cbbf2385c426bb848399f3c13b70f",
      "4c7a7ac1286649c4804fefd359a1be74",
      "9faad8d0c45746ab8e06e120bb3ec0b6",
      "590134f878a74adb98fd129816fde03c",
      "92685fe1840a4555a6962c006ea90c23",
      "aa0dc032d1644bad8e741cf1696d9a70",
      "4296a7e9ab704f019451001dd12c4f46",
      "29b0a8c468e6410fb390b903559d6ef5",
      "fb66cde27d0849bba4947c024e198f7f",
      "bebcff464bfc44ffa82e311a39cae7d7",
      "b9d32ac7b88c4f4e900b160f05c016a3",
      "b2f66cc8930240a5b74d5480377496ed",
      "c1d770aa9eb34e4d942967c507f94009",
      "f280e146d6c54fb59f8ce36f2d1cc6a3",
      "9761d073bcef4c15ad64b01d7bef3561",
      "56418812bda04e7293dd8839018ae839",
      "e6efdf93b1444984810dd32d506227d5",
      "583e6f0878e04a0bbebf5d80d9d712dc",
      "0078023356f142bdbe4e13a42df460fb",
      "01658e0aebd84db9912ea456bd1ad030",
      "54a1be4ee00c44a0b72192135f62fa16",
      "df2e6c22b8af4a2e95bdd85fb48290a6",
      "835f930bb1504982aa56c835dc7b7df7",
      "30540b2b63064d828fd8502fd6d08877",
      "e734818e32a54c71b6397ef84b35bf07",
      "029f1768c5734beab39a592b44f75a9d",
      "bf33fa62bd4546bdbe142239f472fbb3",
      "ca04c2ebb96f48109ef440c260aa125a",
      "26a1b39d42ee490b8732f0e3856c9114",
      "545f1e0393b64b1b94710674213f4af8",
      "181b94c37c72459ca284267bc7675469",
      "748c2a2536394a50aab12eef92442fcb"
     ]
    },
    "colab_type": "code",
    "id": "qt6LE7XaTDT9",
    "outputId": "ab967f1e-8bf2-4199-cbd7-75806359ee1b"
   },
   "outputs": [
    {
     "name": "stdout",
     "output_type": "stream",
     "text": [
      "Downloading http://fashion-mnist.s3-website.eu-central-1.amazonaws.com/train-images-idx3-ubyte.gz\n",
      "Downloading http://fashion-mnist.s3-website.eu-central-1.amazonaws.com/train-images-idx3-ubyte.gz to fmnist/FashionMNIST/raw/train-images-idx3-ubyte.gz\n"
     ]
    },
    {
     "data": {
      "application/vnd.jupyter.widget-view+json": {
       "model_id": "bf1cb930c373493f9f2494e232c9ce79",
       "version_major": 2,
       "version_minor": 0
      },
      "text/plain": [
       "  0%|          | 0/26421880 [00:00<?, ?it/s]"
      ]
     },
     "metadata": {},
     "output_type": "display_data"
    },
    {
     "name": "stdout",
     "output_type": "stream",
     "text": [
      "Extracting fmnist/FashionMNIST/raw/train-images-idx3-ubyte.gz to fmnist/FashionMNIST/raw\n",
      "\n",
      "Downloading http://fashion-mnist.s3-website.eu-central-1.amazonaws.com/train-labels-idx1-ubyte.gz\n",
      "Downloading http://fashion-mnist.s3-website.eu-central-1.amazonaws.com/train-labels-idx1-ubyte.gz to fmnist/FashionMNIST/raw/train-labels-idx1-ubyte.gz\n"
     ]
    },
    {
     "data": {
      "application/vnd.jupyter.widget-view+json": {
       "model_id": "5a53141ef7174961a68bf070fcd733d1",
       "version_major": 2,
       "version_minor": 0
      },
      "text/plain": [
       "  0%|          | 0/29515 [00:00<?, ?it/s]"
      ]
     },
     "metadata": {},
     "output_type": "display_data"
    },
    {
     "name": "stdout",
     "output_type": "stream",
     "text": [
      "Extracting fmnist/FashionMNIST/raw/train-labels-idx1-ubyte.gz to fmnist/FashionMNIST/raw\n",
      "\n",
      "Downloading http://fashion-mnist.s3-website.eu-central-1.amazonaws.com/t10k-images-idx3-ubyte.gz\n",
      "Downloading http://fashion-mnist.s3-website.eu-central-1.amazonaws.com/t10k-images-idx3-ubyte.gz to fmnist/FashionMNIST/raw/t10k-images-idx3-ubyte.gz\n"
     ]
    },
    {
     "data": {
      "application/vnd.jupyter.widget-view+json": {
       "model_id": "9771fd4673584e87a5272c66cd5a6f82",
       "version_major": 2,
       "version_minor": 0
      },
      "text/plain": [
       "  0%|          | 0/4422102 [00:00<?, ?it/s]"
      ]
     },
     "metadata": {},
     "output_type": "display_data"
    },
    {
     "name": "stdout",
     "output_type": "stream",
     "text": [
      "Extracting fmnist/FashionMNIST/raw/t10k-images-idx3-ubyte.gz to fmnist/FashionMNIST/raw\n",
      "\n",
      "Downloading http://fashion-mnist.s3-website.eu-central-1.amazonaws.com/t10k-labels-idx1-ubyte.gz\n",
      "Downloading http://fashion-mnist.s3-website.eu-central-1.amazonaws.com/t10k-labels-idx1-ubyte.gz to fmnist/FashionMNIST/raw/t10k-labels-idx1-ubyte.gz\n"
     ]
    },
    {
     "data": {
      "application/vnd.jupyter.widget-view+json": {
       "model_id": "aa54ef350e4a46ab9dbd694bff8238bb",
       "version_major": 2,
       "version_minor": 0
      },
      "text/plain": [
       "  0%|          | 0/5148 [00:00<?, ?it/s]"
      ]
     },
     "metadata": {},
     "output_type": "display_data"
    },
    {
     "name": "stdout",
     "output_type": "stream",
     "text": [
      "Extracting fmnist/FashionMNIST/raw/t10k-labels-idx1-ubyte.gz to fmnist/FashionMNIST/raw\n",
      "\n"
     ]
    }
   ],
   "source": [
    "download = True\n",
    "train_transform = transforms.ToTensor()\n",
    "test_transform = transforms.ToTensor()\n",
    "transforms.Compose((transforms.ToTensor()))\n",
    "\n",
    "\n",
    "fmnist_dataset_train = torchvision.datasets.FashionMNIST(root_path, \n",
    "                                                        train=True, \n",
    "                                                        transform=train_transform,\n",
    "                                                        target_transform=None,\n",
    "                                                        download=download)\n",
    "fmnist_dataset_test = torchvision.datasets.FashionMNIST(root_path, \n",
    "                                                       train=False, \n",
    "                                                       transform=test_transform,\n",
    "                                                       target_transform=None,\n",
    "                                                       download=download)"
   ]
  },
  {
   "cell_type": "code",
   "execution_count": 4,
   "metadata": {
    "colab": {},
    "colab_type": "code",
    "id": "71YP0SPwTIxD"
   },
   "outputs": [],
   "source": [
    "train_loader = torch.utils.data.DataLoader(fmnist_dataset_train, \n",
    "                                           batch_size=128,\n",
    "                                           shuffle=True,\n",
    "                                           num_workers=2)\n",
    "test_loader = torch.utils.data.DataLoader(fmnist_dataset_test,\n",
    "                                          batch_size=256,\n",
    "                                          shuffle=False,\n",
    "                                          num_workers=2)"
   ]
  },
  {
   "cell_type": "code",
   "execution_count": 5,
   "metadata": {
    "colab": {
     "base_uri": "https://localhost:8080/",
     "height": 35
    },
    "colab_type": "code",
    "id": "v_YFmF7NTWrQ",
    "outputId": "6b517f52-5fc5-482e-cc8e-cd6b3f1b72f1"
   },
   "outputs": [
    {
     "data": {
      "text/plain": [
       "10000"
      ]
     },
     "execution_count": 5,
     "metadata": {},
     "output_type": "execute_result"
    }
   ],
   "source": [
    "len(fmnist_dataset_test)"
   ]
  },
  {
   "cell_type": "code",
   "execution_count": 6,
   "metadata": {
    "colab": {
     "base_uri": "https://localhost:8080/",
     "height": 71
    },
    "colab_type": "code",
    "id": "aHca15bOTY4B",
    "outputId": "7eb477ef-816d-418c-f5c3-ade63d4cf915"
   },
   "outputs": [
    {
     "name": "stdout",
     "output_type": "stream",
     "text": [
      "torch.Size([128, 1, 28, 28])\n",
      "torch.Size([128])\n",
      "128\n"
     ]
    }
   ],
   "source": [
    "for img, label in train_loader:\n",
    "    print(img.shape)\n",
    "#     print(img)\n",
    "    print(label.shape)\n",
    "    print(label.size(0))\n",
    "    break"
   ]
  },
  {
   "cell_type": "markdown",
   "metadata": {
    "colab_type": "text",
    "id": "b6OOOffHTfX5"
   },
   "source": [
    "### Task 1\n",
    "Train a network that achieves $\\geq 0.885$ test accuracy. It's fine to use only Linear (`nn.Linear`) layers and activations/dropout/batchnorm. Convolutional layers might be a great use, but we will meet them a bit later."
   ]
  },
  {
   "cell_type": "code",
   "execution_count": 7,
   "metadata": {
    "colab": {},
    "colab_type": "code",
    "id": "ftpkTjxlTcFx"
   },
   "outputs": [],
   "source": [
    "class TinyNeuralNetwork(nn.Module):\n",
    "    def __init__(self, input_shape=28*28, num_classes=10, input_channels=1):\n",
    "        super(self.__class__, self).__init__()\n",
    "        self.model = nn.Sequential(\n",
    "            nn.Flatten(), # This layer converts image into a vector to use Linear layers afterwards\n",
    "            # Your network structure comes here\n",
    "            nn.Linear(input_shape, 256),\n",
    "            nn.LeakyReLU(),\n",
    "            nn.BatchNorm1d(256, momentum=0),\n",
    "            nn.Linear(256, 64),\n",
    "            nn.LeakyReLU(),\n",
    "            nn.BatchNorm1d(64, momentum=0),\n",
    "            nn.Linear(64, num_classes),\n",
    "            nn.LogSoftmax(dim=1)\n",
    "        )\n",
    "        \n",
    "    def forward(self, inp):       \n",
    "        out = self.model(inp)\n",
    "        return out"
   ]
  },
  {
   "cell_type": "code",
   "execution_count": 8,
   "metadata": {},
   "outputs": [
    {
     "name": "stdout",
     "output_type": "stream",
     "text": [
      "----------------------------------------------------------------\n",
      "        Layer (type)               Output Shape         Param #\n",
      "================================================================\n",
      "           Flatten-1                  [-1, 784]               0\n",
      "            Linear-2                  [-1, 256]         200,960\n",
      "         LeakyReLU-3                  [-1, 256]               0\n",
      "       BatchNorm1d-4                  [-1, 256]             512\n",
      "            Linear-5                   [-1, 64]          16,448\n",
      "         LeakyReLU-6                   [-1, 64]               0\n",
      "       BatchNorm1d-7                   [-1, 64]             128\n",
      "            Linear-8                   [-1, 10]             650\n",
      "        LogSoftmax-9                   [-1, 10]               0\n",
      "================================================================\n",
      "Total params: 218,698\n",
      "Trainable params: 218,698\n",
      "Non-trainable params: 0\n",
      "----------------------------------------------------------------\n",
      "Input size (MB): 0.00\n",
      "Forward/backward pass size (MB): 0.01\n",
      "Params size (MB): 0.83\n",
      "Estimated Total Size (MB): 0.85\n",
      "----------------------------------------------------------------\n"
     ]
    }
   ],
   "source": [
    "torchsummary.summary(TinyNeuralNetwork().to(device), (28*28,))"
   ]
  },
  {
   "cell_type": "markdown",
   "metadata": {
    "colab_type": "text",
    "id": "544PGKEnjPr5"
   },
   "source": [
    "Your experiments come here:"
   ]
  },
  {
   "cell_type": "code",
   "execution_count": 12,
   "metadata": {
    "colab": {
     "base_uri": "https://localhost:8080/",
     "height": 607
    },
    "colab_type": "code",
    "id": "i3POFj90Ti-6",
    "outputId": "82e7e921-541b-4657-f78d-563de48b07c7"
   },
   "outputs": [
    {
     "name": "stderr",
     "output_type": "stream",
     "text": [
      "100%|█████████████████████████████████████████| 100/100 [13:32<00:00,  8.12s/it]\n"
     ]
    }
   ],
   "source": [
    "model = TinyNeuralNetwork()\n",
    "opt = torch.optim.Adam(model.parameters(), lr=3e-3, betas=(0.7, 0.9))\n",
    "loss_func = nn.NLLLoss()\n",
    "\n",
    "# Your experiments, come here\n",
    "def accuracy(model):\n",
    "    total = 0\n",
    "    for x, y in test_loader:\n",
    "        total += torch.sum(model.forward(x).argmax(axis=1) == y)\n",
    "    return total / len(fmnist_dataset_test)\n",
    "\n",
    "n_epoch = 100\n",
    "\n",
    "losses = []\n",
    "model.train(True)\n",
    "for i in tqdm(range(n_epoch)):\n",
    "    # Test loss calculation\n",
    "    current_loss = 0\n",
    "    for img, label in train_loader:\n",
    "        # Forward\n",
    "        predictions = model.forward(img)\n",
    "        loss = loss_func(predictions, label)\n",
    "        current_loss += loss.item()\n",
    "\n",
    "        # Backward\n",
    "        loss.backward()\n",
    "\n",
    "        # Update weights\n",
    "        opt.step()\n",
    "        opt.zero_grad()\n",
    "    losses.append(current_loss)"
   ]
  },
  {
   "cell_type": "markdown",
   "metadata": {
    "colab_type": "text",
    "id": "L7ISqkjmCPB1"
   },
   "source": [
    "### Task 2: Overfit it.\n",
    "Build a network that will overfit to this dataset. Demonstrate the overfitting in the appropriate way (e.g. plot loss and accurasy on train and test set w.r.t. network complexity).\n",
    "\n",
    "*Note:* you also might decrease the size of `train` dataset to enforce the overfitting and speed up the computations."
   ]
  },
  {
   "cell_type": "code",
   "execution_count": 13,
   "metadata": {
    "colab": {},
    "colab_type": "code",
    "id": "H12uAWiGBwJx"
   },
   "outputs": [],
   "source": [
    "class OverfittingNeuralNetwork(nn.Module):\n",
    "    def __init__(self, input_shape=28*28, num_classes=10, input_channels=1):\n",
    "        super(self.__class__, self).__init__()\n",
    "        self.model = nn.Sequential(\n",
    "            nn.Flatten(), # This layer converts image into a vector to use Linear layers afterwards\n",
    "            # Your network structure comes here\n",
    "            nn.Linear(input_shape, 256),\n",
    "            nn.LeakyReLU(),\n",
    "            nn.BatchNorm1d(256, momentum=0),\n",
    "            nn.Linear(256, 256),\n",
    "            nn.LeakyReLU(),\n",
    "            nn.BatchNorm1d(256, momentum=0),\n",
    "            nn.Linear(256, num_classes),\n",
    "            nn.LogSoftmax(dim=1)\n",
    "        )\n",
    "        \n",
    "    def forward(self, inp):       \n",
    "        out = self.model(inp)\n",
    "        return out"
   ]
  },
  {
   "cell_type": "code",
   "execution_count": 14,
   "metadata": {
    "colab": {
     "base_uri": "https://localhost:8080/",
     "height": 449
    },
    "colab_type": "code",
    "id": "JgXAKCpvCwqH",
    "outputId": "8d29ad18-3f0c-4161-8bcd-004d24ba771c"
   },
   "outputs": [
    {
     "name": "stdout",
     "output_type": "stream",
     "text": [
      "----------------------------------------------------------------\n",
      "        Layer (type)               Output Shape         Param #\n",
      "================================================================\n",
      "           Flatten-1                  [-1, 784]               0\n",
      "            Linear-2                  [-1, 256]         200,960\n",
      "         LeakyReLU-3                  [-1, 256]               0\n",
      "       BatchNorm1d-4                  [-1, 256]             512\n",
      "            Linear-5                  [-1, 256]          65,792\n",
      "         LeakyReLU-6                  [-1, 256]               0\n",
      "       BatchNorm1d-7                  [-1, 256]             512\n",
      "            Linear-8                   [-1, 10]           2,570\n",
      "        LogSoftmax-9                   [-1, 10]               0\n",
      "================================================================\n",
      "Total params: 270,346\n",
      "Trainable params: 270,346\n",
      "Non-trainable params: 0\n",
      "----------------------------------------------------------------\n",
      "Input size (MB): 0.00\n",
      "Forward/backward pass size (MB): 0.02\n",
      "Params size (MB): 1.03\n",
      "Estimated Total Size (MB): 1.05\n",
      "----------------------------------------------------------------\n"
     ]
    }
   ],
   "source": [
    "torchsummary.summary(OverfittingNeuralNetwork().to(device), (28*28,))"
   ]
  },
  {
   "cell_type": "code",
   "execution_count": 15,
   "metadata": {},
   "outputs": [
    {
     "name": "stderr",
     "output_type": "stream",
     "text": [
      "100%|█████████████████████████████████████████| 400/400 [57:32<00:00,  8.63s/it]\n"
     ]
    }
   ],
   "source": [
    "model = OverfittingNeuralNetwork().to(device)\n",
    "model = OverfittingNeuralNetwork()\n",
    "opt = torch.optim.Adam(model.parameters(), lr=3e-3, betas=(0.7, 0.9))\n",
    "loss_func = nn.NLLLoss()\n",
    "\n",
    "# Your experiments, come here\n",
    "n_epoch = 400\n",
    "\n",
    "losses = []\n",
    "accuracies = []\n",
    "for i in tqdm(range(n_epoch)):\n",
    "    # Test loss calculation\n",
    "    current_loss = 0\n",
    "    model.train(True)\n",
    "    for img, label in train_loader:\n",
    "        # Forward\n",
    "        predictions = model.forward(img)\n",
    "        loss = loss_func(predictions, label)\n",
    "        current_loss += loss.item()\n",
    "\n",
    "        # Backward\n",
    "        loss.backward()\n",
    "\n",
    "        # Update weights\n",
    "        opt.step()\n",
    "        opt.zero_grad()\n",
    "    losses.append(current_loss)\n",
    "    model.train(False)\n",
    "    accuracies.append(accuracy(model))"
   ]
  },
  {
   "cell_type": "code",
   "execution_count": 23,
   "metadata": {},
   "outputs": [
    {
     "name": "stdout",
     "output_type": "stream",
     "text": [
      "loss: tensor(0.3010, grad_fn=<NllLossBackward0>)\n",
      "accuracy: tensor(0.8582)\n"
     ]
    },
    {
     "data": {
      "image/png": "[encoded data removed]",
      "text/plain": [
       "<Figure size 1440x576 with 2 Axes>"
      ]
     },
     "metadata": {},
     "output_type": "display_data"
    }
   ],
   "source": [
    "fg = plt.figure(figsize=(20, 8), constrained_layout=True, facecolor = \"white\")\n",
    "gs = gridspec.GridSpec(ncols=2, nrows=1, figure=fg)\n",
    "\n",
    "fig_ax_1 = fg.add_subplot(gs[0, 0], facecolor = \"white\")\n",
    "fig_ax_1.semilogy(losses, 'black', linewidth=3)\n",
    "fig_ax_1.set_xlabel(\"iteration number\", fontsize=15)\n",
    "fig_ax_1.set_ylabel(\"loss\", fontsize=15)\n",
    "fig_ax_1.set_title(\"Train loss\", fontsize=15)\n",
    "fig_ax_1.grid(color='darkred')\n",
    "\n",
    "fig_ax_1 = fg.add_subplot(gs[0, 1], facecolor = \"white\")\n",
    "fig_ax_1.semilogy(accuracies, 'black', linewidth=3)\n",
    "fig_ax_1.set_xlabel(\"iteration number\", fontsize=15)\n",
    "fig_ax_1.set_ylabel(\"accuracy\", fontsize=15)\n",
    "fig_ax_1.set_title(\"Test accuracy\", fontsize=15)\n",
    "fig_ax_1.grid(color='darkred')\n",
    "\n",
    "print(\"loss:\", loss)\n",
    "print(\"accuracy:\", accuracy(model))"
   ]
  },
  {
   "cell_type": "markdown",
   "metadata": {},
   "source": [
    "The model is being overfitted as the accuracy decreases and the loss continues to fall"
   ]
  },
  {
   "cell_type": "markdown",
   "metadata": {},
   "source": [
    "### Task 3: Fix it.\n",
    "Fix the overfitted network from the previous step (at least partially) by using regularization techniques (Dropout/Batchnorm/...) and demonstrate the results. "
   ]
  },
  {
   "cell_type": "code",
   "execution_count": 19,
   "metadata": {},
   "outputs": [],
   "source": [
    "class FixedNeuralNetwork(nn.Module):\n",
    "    def __init__(self, input_shape=28*28, num_classes=10, input_channels=1):\n",
    "        super(self.__class__, self).__init__()\n",
    "        self.model = nn.Sequential(\n",
    "            nn.Flatten(), # This layer converts image into a vector to use Linear layers afterwards\n",
    "            # Your network structure comes here\n",
    "            nn.Dropout(0.3),\n",
    "            nn.Linear(input_shape, 128),\n",
    "            nn.LeakyReLU(),\n",
    "            nn.BatchNorm1d(128, momentum=0),\n",
    "            nn.Dropout(0.4),\n",
    "            nn.Linear(128, 64),\n",
    "            nn.LeakyReLU(),\n",
    "            nn.BatchNorm1d(64, momentum=0),\n",
    "            nn.Dropout(0.4),\n",
    "            nn.Linear(64, num_classes),\n",
    "            nn.LogSoftmax(dim=1)\n",
    "        )\n",
    "        \n",
    "    def forward(self, inp):       \n",
    "        out = self.model(inp)\n",
    "        return out"
   ]
  },
  {
   "cell_type": "code",
   "execution_count": 20,
   "metadata": {},
   "outputs": [
    {
     "name": "stdout",
     "output_type": "stream",
     "text": [
      "----------------------------------------------------------------\n",
      "        Layer (type)               Output Shape         Param #\n",
      "================================================================\n",
      "           Flatten-1                  [-1, 784]               0\n",
      "           Dropout-2                  [-1, 784]               0\n",
      "            Linear-3                  [-1, 128]         100,480\n",
      "         LeakyReLU-4                  [-1, 128]               0\n",
      "       BatchNorm1d-5                  [-1, 128]             256\n",
      "           Dropout-6                  [-1, 128]               0\n",
      "            Linear-7                   [-1, 64]           8,256\n",
      "         LeakyReLU-8                   [-1, 64]               0\n",
      "       BatchNorm1d-9                   [-1, 64]             128\n",
      "          Dropout-10                   [-1, 64]               0\n",
      "           Linear-11                   [-1, 10]             650\n",
      "       LogSoftmax-12                   [-1, 10]               0\n",
      "================================================================\n",
      "Total params: 109,770\n",
      "Trainable params: 109,770\n",
      "Non-trainable params: 0\n",
      "----------------------------------------------------------------\n",
      "Input size (MB): 0.00\n",
      "Forward/backward pass size (MB): 0.02\n",
      "Params size (MB): 0.42\n",
      "Estimated Total Size (MB): 0.44\n",
      "----------------------------------------------------------------\n"
     ]
    }
   ],
   "source": [
    "torchsummary.summary(FixedNeuralNetwork().to(device), (28*28,))"
   ]
  },
  {
   "cell_type": "code",
   "execution_count": 21,
   "metadata": {},
   "outputs": [
    {
     "name": "stderr",
     "output_type": "stream",
     "text": [
      "100%|█████████████████████████████████████████| 400/400 [46:45<00:00,  7.01s/it]\n"
     ]
    }
   ],
   "source": [
    "model = FixedNeuralNetwork().to(device)\n",
    "opt = torch.optim.Adam(model.parameters(), lr=3e-3, betas=(0.7, 0.9))\n",
    "loss_func = nn.NLLLoss()\n",
    "\n",
    "# Your experiments, come here\n",
    "n_epoch = 400\n",
    "\n",
    "losses = []\n",
    "accuracies = []\n",
    "for i in tqdm(range(n_epoch)):\n",
    "    # Test loss calculation\n",
    "    current_loss = 0\n",
    "    model.train(True)\n",
    "    for img, label in train_loader:\n",
    "        # Forward\n",
    "        predictions = model.forward(img)\n",
    "        loss = loss_func(predictions, label)\n",
    "        current_loss += loss.item()\n",
    "\n",
    "        # Backward\n",
    "        loss.backward()\n",
    "\n",
    "        # Update weights\n",
    "        opt.step()\n",
    "        opt.zero_grad()\n",
    "    losses.append(current_loss)\n",
    "    model.train(False)\n",
    "    accuracies.append(accuracy(model))"
   ]
  },
  {
   "cell_type": "code",
   "execution_count": 24,
   "metadata": {},
   "outputs": [
    {
     "name": "stdout",
     "output_type": "stream",
     "text": [
      "loss: tensor(0.3010, grad_fn=<NllLossBackward0>)\n",
      "accuracy: tensor(0.8582)\n"
     ]
    },
    {
     "data": {
      "image/png": "[encoded data removed]",
      "text/plain": [
       "<Figure size 1440x576 with 2 Axes>"
      ]
     },
     "metadata": {},
     "output_type": "display_data"
    }
   ],
   "source": [
    "fg = plt.figure(figsize=(20, 8), constrained_layout=True, facecolor = \"white\")\n",
    "gs = gridspec.GridSpec(ncols=2, nrows=1, figure=fg)\n",
    "\n",
    "fig_ax_1 = fg.add_subplot(gs[0, 0], facecolor = \"white\")\n",
    "fig_ax_1.semilogy(losses, 'black', linewidth=3)\n",
    "fig_ax_1.set_xlabel(\"iteration number\", fontsize=15)\n",
    "fig_ax_1.set_ylabel(\"loss\", fontsize=15)\n",
    "fig_ax_1.set_title(\"Train loss\", fontsize=15)\n",
    "fig_ax_1.grid(color='darkred')\n",
    "\n",
    "fig_ax_1 = fg.add_subplot(gs[0, 1], facecolor = \"white\")\n",
    "fig_ax_1.semilogy(accuracies, 'black', linewidth=3)\n",
    "fig_ax_1.set_xlabel(\"iteration number\", fontsize=15)\n",
    "fig_ax_1.set_ylabel(\"accuracy\", fontsize=15)\n",
    "fig_ax_1.set_title(\"Test accuracy\", fontsize=15)\n",
    "fig_ax_1.grid(color='darkred')\n",
    "\n",
    "print(\"loss:\", loss)\n",
    "print(\"accuracy:\", accuracy(model))"
   ]
  },
  {
   "cell_type": "markdown",
   "metadata": {
    "colab_type": "text",
    "id": "dMui_uLJ7G0d"
   },
   "source": [
    "### Conclusions:\n",
    "The overtraining problem is well fixed by the dropout technique. Also, do not make too large grids for such a simple task (not so much data and small input), it will encourage overfitting"
   ]
  },
  {
   "cell_type": "code",
   "execution_count": null,
   "metadata": {},
   "outputs": [],
   "source": []
  }
 ],
 "metadata": {
  "accelerator": "GPU",
  "colab": {
   "collapsed_sections": [],
   "name": "Overfit it.ipynb",
   "provenance": []
  },
  "kernelspec": {
   "display_name": "Python 3 (ipykernel)",
   "language": "python",
   "name": "python3"
  },
  "language_info": {
   "codemirror_mode": {
    "name": "ipython",
    "version": 3
   },
   "file_extension": ".py",
   "mimetype": "text/x-python",
   "name": "python",
   "nbconvert_exporter": "python",
   "pygments_lexer": "ipython3",
   "version": "3.8.0"
  },
  "widgets": {
   "application/vnd.jupyter.widget-state+json": {
    "0078023356f142bdbe4e13a42df460fb": {
     "model_module": "@jupyter-widgets/controls",
     "model_name": "IntProgressModel",
     "state": {
      "_dom_classes": [],
      "_model_module": "@jupyter-widgets/controls",
      "_model_module_version": "1.5.0",
      "_model_name": "IntProgressModel",
      "_view_count": null,
      "_view_module": "@jupyter-widgets/controls",
      "_view_module_version": "1.5.0",
      "_view_name": "ProgressView",
      "bar_style": "success",
      "description": "",
      "description_tooltip": null,
      "layout": "IPY_MODEL_df2e6c22b8af4a2e95bdd85fb48290a6",
      "max": 1,
      "min": 0,
      "orientation": "horizontal",
      "style": "IPY_MODEL_54a1be4ee00c44a0b72192135f62fa16",
      "value": 1
     }
    },
    "01658e0aebd84db9912ea456bd1ad030": {
     "model_module": "@jupyter-widgets/controls",
     "model_name": "HTMLModel",
     "state": {
      "_dom_classes": [],
      "_model_module": "@jupyter-widgets/controls",
      "_model_module_version": "1.5.0",
      "_model_name": "HTMLModel",
      "_view_count": null,
      "_view_module": "@jupyter-widgets/controls",
      "_view_module_version": "1.5.0",
      "_view_name": "HTMLView",
      "description": "",
      "description_tooltip": null,
      "layout": "IPY_MODEL_30540b2b63064d828fd8502fd6d08877",
      "placeholder": "​",
      "style": "IPY_MODEL_835f930bb1504982aa56c835dc7b7df7",
      "value": "4423680it [00:01, 3086127.05it/s]"
     }
    },
    "029f1768c5734beab39a592b44f75a9d": {
     "model_module": "@jupyter-widgets/base",
     "model_name": "LayoutModel",
     "state": {
      "_model_module": "@jupyter-widgets/base",
      "_model_module_version": "1.2.0",
      "_model_name": "LayoutModel",
      "_view_count": null,
      "_view_module": "@jupyter-widgets/base",
      "_view_module_version": "1.2.0",
      "_view_name": "LayoutView",
      "align_content": null,
      "align_items": null,
      "align_self": null,
      "border": null,
      "bottom": null,
      "display": null,
      "flex": null,
      "flex_flow": null,
      "grid_area": null,
      "grid_auto_columns": null,
      "grid_auto_flow": null,
      "grid_auto_rows": null,
      "grid_column": null,
      "grid_gap": null,
      "grid_row": null,
      "grid_template_areas": null,
      "grid_template_columns": null,
      "grid_template_rows": null,
      "height": null,
      "justify_content": null,
      "justify_items": null,
      "left": null,
      "margin": null,
      "max_height": null,
      "max_width": null,
      "min_height": null,
      "min_width": null,
      "object_fit": null,
      "object_position": null,
      "order": null,
      "overflow": null,
      "overflow_x": null,
      "overflow_y": null,
      "padding": null,
      "right": null,
      "top": null,
      "visibility": null,
      "width": null
     }
    },
    "181b94c37c72459ca284267bc7675469": {
     "model_module": "@jupyter-widgets/controls",
     "model_name": "DescriptionStyleModel",
     "state": {
      "_model_module": "@jupyter-widgets/controls",
      "_model_module_version": "1.5.0",
      "_model_name": "DescriptionStyleModel",
      "_view_count": null,
      "_view_module": "@jupyter-widgets/base",
      "_view_module_version": "1.2.0",
      "_view_name": "StyleView",
      "description_width": ""
     }
    },
    "26a1b39d42ee490b8732f0e3856c9114": {
     "model_module": "@jupyter-widgets/controls",
     "model_name": "ProgressStyleModel",
     "state": {
      "_model_module": "@jupyter-widgets/controls",
      "_model_module_version": "1.5.0",
      "_model_name": "ProgressStyleModel",
      "_view_count": null,
      "_view_module": "@jupyter-widgets/base",
      "_view_module_version": "1.2.0",
      "_view_name": "StyleView",
      "bar_color": null,
      "description_width": ""
     }
    },
    "29b0a8c468e6410fb390b903559d6ef5": {
     "model_module": "@jupyter-widgets/base",
     "model_name": "LayoutModel",
     "state": {
      "_model_module": "@jupyter-widgets/base",
      "_model_module_version": "1.2.0",
      "_model_name": "LayoutModel",
      "_view_count": null,
      "_view_module": "@jupyter-widgets/base",
      "_view_module_version": "1.2.0",
      "_view_name": "LayoutView",
      "align_content": null,
      "align_items": null,
      "align_self": null,
      "border": null,
      "bottom": null,
      "display": null,
      "flex": null,
      "flex_flow": null,
      "grid_area": null,
      "grid_auto_columns": null,
      "grid_auto_flow": null,
      "grid_auto_rows": null,
      "grid_column": null,
      "grid_gap": null,
      "grid_row": null,
      "grid_template_areas": null,
      "grid_template_columns": null,
      "grid_template_rows": null,
      "height": null,
      "justify_content": null,
      "justify_items": null,
      "left": null,
      "margin": null,
      "max_height": null,
      "max_width": null,
      "min_height": null,
      "min_width": null,
      "object_fit": null,
      "object_position": null,
      "order": null,
      "overflow": null,
      "overflow_x": null,
      "overflow_y": null,
      "padding": null,
      "right": null,
      "top": null,
      "visibility": null,
      "width": null
     }
    },
    "30540b2b63064d828fd8502fd6d08877": {
     "model_module": "@jupyter-widgets/base",
     "model_name": "LayoutModel",
     "state": {
      "_model_module": "@jupyter-widgets/base",
      "_model_module_version": "1.2.0",
      "_model_name": "LayoutModel",
      "_view_count": null,
      "_view_module": "@jupyter-widgets/base",
      "_view_module_version": "1.2.0",
      "_view_name": "LayoutView",
      "align_content": null,
      "align_items": null,
      "align_self": null,
      "border": null,
      "bottom": null,
      "display": null,
      "flex": null,
      "flex_flow": null,
      "grid_area": null,
      "grid_auto_columns": null,
      "grid_auto_flow": null,
      "grid_auto_rows": null,
      "grid_column": null,
      "grid_gap": null,
      "grid_row": null,
      "grid_template_areas": null,
      "grid_template_columns": null,
      "grid_template_rows": null,
      "height": null,
      "justify_content": null,
      "justify_items": null,
      "left": null,
      "margin": null,
      "max_height": null,
      "max_width": null,
      "min_height": null,
      "min_width": null,
      "object_fit": null,
      "object_position": null,
      "order": null,
      "overflow": null,
      "overflow_x": null,
      "overflow_y": null,
      "padding": null,
      "right": null,
      "top": null,
      "visibility": null,
      "width": null
     }
    },
    "4296a7e9ab704f019451001dd12c4f46": {
     "model_module": "@jupyter-widgets/controls",
     "model_name": "DescriptionStyleModel",
     "state": {
      "_model_module": "@jupyter-widgets/controls",
      "_model_module_version": "1.5.0",
      "_model_name": "DescriptionStyleModel",
      "_view_count": null,
      "_view_module": "@jupyter-widgets/base",
      "_view_module_version": "1.2.0",
      "_view_name": "StyleView",
      "description_width": ""
     }
    },
    "4c7a7ac1286649c4804fefd359a1be74": {
     "model_module": "@jupyter-widgets/base",
     "model_name": "LayoutModel",
     "state": {
      "_model_module": "@jupyter-widgets/base",
      "_model_module_version": "1.2.0",
      "_model_name": "LayoutModel",
      "_view_count": null,
      "_view_module": "@jupyter-widgets/base",
      "_view_module_version": "1.2.0",
      "_view_name": "LayoutView",
      "align_content": null,
      "align_items": null,
      "align_self": null,
      "border": null,
      "bottom": null,
      "display": null,
      "flex": null,
      "flex_flow": null,
      "grid_area": null,
      "grid_auto_columns": null,
      "grid_auto_flow": null,
      "grid_auto_rows": null,
      "grid_column": null,
      "grid_gap": null,
      "grid_row": null,
      "grid_template_areas": null,
      "grid_template_columns": null,
      "grid_template_rows": null,
      "height": null,
      "justify_content": null,
      "justify_items": null,
      "left": null,
      "margin": null,
      "max_height": null,
      "max_width": null,
      "min_height": null,
      "min_width": null,
      "object_fit": null,
      "object_position": null,
      "order": null,
      "overflow": null,
      "overflow_x": null,
      "overflow_y": null,
      "padding": null,
      "right": null,
      "top": null,
      "visibility": null,
      "width": null
     }
    },
    "545f1e0393b64b1b94710674213f4af8": {
     "model_module": "@jupyter-widgets/base",
     "model_name": "LayoutModel",
     "state": {
      "_model_module": "@jupyter-widgets/base",
      "_model_module_version": "1.2.0",
      "_model_name": "LayoutModel",
      "_view_count": null,
      "_view_module": "@jupyter-widgets/base",
      "_view_module_version": "1.2.0",
      "_view_name": "LayoutView",
      "align_content": null,
      "align_items": null,
      "align_self": null,
      "border": null,
      "bottom": null,
      "display": null,
      "flex": null,
      "flex_flow": null,
      "grid_area": null,
      "grid_auto_columns": null,
      "grid_auto_flow": null,
      "grid_auto_rows": null,
      "grid_column": null,
      "grid_gap": null,
      "grid_row": null,
      "grid_template_areas": null,
      "grid_template_columns": null,
      "grid_template_rows": null,
      "height": null,
      "justify_content": null,
      "justify_items": null,
      "left": null,
      "margin": null,
      "max_height": null,
      "max_width": null,
      "min_height": null,
      "min_width": null,
      "object_fit": null,
      "object_position": null,
      "order": null,
      "overflow": null,
      "overflow_x": null,
      "overflow_y": null,
      "padding": null,
      "right": null,
      "top": null,
      "visibility": null,
      "width": null
     }
    },
    "54a1be4ee00c44a0b72192135f62fa16": {
     "model_module": "@jupyter-widgets/controls",
     "model_name": "ProgressStyleModel",
     "state": {
      "_model_module": "@jupyter-widgets/controls",
      "_model_module_version": "1.5.0",
      "_model_name": "ProgressStyleModel",
      "_view_count": null,
      "_view_module": "@jupyter-widgets/base",
      "_view_module_version": "1.2.0",
      "_view_name": "StyleView",
      "bar_color": null,
      "description_width": ""
     }
    },
    "56418812bda04e7293dd8839018ae839": {
     "model_module": "@jupyter-widgets/base",
     "model_name": "LayoutModel",
     "state": {
      "_model_module": "@jupyter-widgets/base",
      "_model_module_version": "1.2.0",
      "_model_name": "LayoutModel",
      "_view_count": null,
      "_view_module": "@jupyter-widgets/base",
      "_view_module_version": "1.2.0",
      "_view_name": "LayoutView",
      "align_content": null,
      "align_items": null,
      "align_self": null,
      "border": null,
      "bottom": null,
      "display": null,
      "flex": null,
      "flex_flow": null,
      "grid_area": null,
      "grid_auto_columns": null,
      "grid_auto_flow": null,
      "grid_auto_rows": null,
      "grid_column": null,
      "grid_gap": null,
      "grid_row": null,
      "grid_template_areas": null,
      "grid_template_columns": null,
      "grid_template_rows": null,
      "height": null,
      "justify_content": null,
      "justify_items": null,
      "left": null,
      "margin": null,
      "max_height": null,
      "max_width": null,
      "min_height": null,
      "min_width": null,
      "object_fit": null,
      "object_position": null,
      "order": null,
      "overflow": null,
      "overflow_x": null,
      "overflow_y": null,
      "padding": null,
      "right": null,
      "top": null,
      "visibility": null,
      "width": null
     }
    },
    "583e6f0878e04a0bbebf5d80d9d712dc": {
     "model_module": "@jupyter-widgets/base",
     "model_name": "LayoutModel",
     "state": {
      "_model_module": "@jupyter-widgets/base",
      "_model_module_version": "1.2.0",
      "_model_name": "LayoutModel",
      "_view_count": null,
      "_view_module": "@jupyter-widgets/base",
      "_view_module_version": "1.2.0",
      "_view_name": "LayoutView",
      "align_content": null,
      "align_items": null,
      "align_self": null,
      "border": null,
      "bottom": null,
      "display": null,
      "flex": null,
      "flex_flow": null,
      "grid_area": null,
      "grid_auto_columns": null,
      "grid_auto_flow": null,
      "grid_auto_rows": null,
      "grid_column": null,
      "grid_gap": null,
      "grid_row": null,
      "grid_template_areas": null,
      "grid_template_columns": null,
      "grid_template_rows": null,
      "height": null,
      "justify_content": null,
      "justify_items": null,
      "left": null,
      "margin": null,
      "max_height": null,
      "max_width": null,
      "min_height": null,
      "min_width": null,
      "object_fit": null,
      "object_position": null,
      "order": null,
      "overflow": null,
      "overflow_x": null,
      "overflow_y": null,
      "padding": null,
      "right": null,
      "top": null,
      "visibility": null,
      "width": null
     }
    },
    "590134f878a74adb98fd129816fde03c": {
     "model_module": "@jupyter-widgets/controls",
     "model_name": "HTMLModel",
     "state": {
      "_dom_classes": [],
      "_model_module": "@jupyter-widgets/controls",
      "_model_module_version": "1.5.0",
      "_model_name": "HTMLModel",
      "_view_count": null,
      "_view_module": "@jupyter-widgets/controls",
      "_view_module_version": "1.5.0",
      "_view_name": "HTMLView",
      "description": "",
      "description_tooltip": null,
      "layout": "IPY_MODEL_29b0a8c468e6410fb390b903559d6ef5",
      "placeholder": "​",
      "style": "IPY_MODEL_4296a7e9ab704f019451001dd12c4f46",
      "value": "26427392it [00:02, 10150318.78it/s]"
     }
    },
    "748c2a2536394a50aab12eef92442fcb": {
     "model_module": "@jupyter-widgets/base",
     "model_name": "LayoutModel",
     "state": {
      "_model_module": "@jupyter-widgets/base",
      "_model_module_version": "1.2.0",
      "_model_name": "LayoutModel",
      "_view_count": null,
      "_view_module": "@jupyter-widgets/base",
      "_view_module_version": "1.2.0",
      "_view_name": "LayoutView",
      "align_content": null,
      "align_items": null,
      "align_self": null,
      "border": null,
      "bottom": null,
      "display": null,
      "flex": null,
      "flex_flow": null,
      "grid_area": null,
      "grid_auto_columns": null,
      "grid_auto_flow": null,
      "grid_auto_rows": null,
      "grid_column": null,
      "grid_gap": null,
      "grid_row": null,
      "grid_template_areas": null,
      "grid_template_columns": null,
      "grid_template_rows": null,
      "height": null,
      "justify_content": null,
      "justify_items": null,
      "left": null,
      "margin": null,
      "max_height": null,
      "max_width": null,
      "min_height": null,
      "min_width": null,
      "object_fit": null,
      "object_position": null,
      "order": null,
      "overflow": null,
      "overflow_x": null,
      "overflow_y": null,
      "padding": null,
      "right": null,
      "top": null,
      "visibility": null,
      "width": null
     }
    },
    "835f930bb1504982aa56c835dc7b7df7": {
     "model_module": "@jupyter-widgets/controls",
     "model_name": "DescriptionStyleModel",
     "state": {
      "_model_module": "@jupyter-widgets/controls",
      "_model_module_version": "1.5.0",
      "_model_name": "DescriptionStyleModel",
      "_view_count": null,
      "_view_module": "@jupyter-widgets/base",
      "_view_module_version": "1.2.0",
      "_view_name": "StyleView",
      "description_width": ""
     }
    },
    "92685fe1840a4555a6962c006ea90c23": {
     "model_module": "@jupyter-widgets/controls",
     "model_name": "ProgressStyleModel",
     "state": {
      "_model_module": "@jupyter-widgets/controls",
      "_model_module_version": "1.5.0",
      "_model_name": "ProgressStyleModel",
      "_view_count": null,
      "_view_module": "@jupyter-widgets/base",
      "_view_module_version": "1.2.0",
      "_view_name": "StyleView",
      "bar_color": null,
      "description_width": ""
     }
    },
    "9761d073bcef4c15ad64b01d7bef3561": {
     "model_module": "@jupyter-widgets/controls",
     "model_name": "DescriptionStyleModel",
     "state": {
      "_model_module": "@jupyter-widgets/controls",
      "_model_module_version": "1.5.0",
      "_model_name": "DescriptionStyleModel",
      "_view_count": null,
      "_view_module": "@jupyter-widgets/base",
      "_view_module_version": "1.2.0",
      "_view_name": "StyleView",
      "description_width": ""
     }
    },
    "9faad8d0c45746ab8e06e120bb3ec0b6": {
     "model_module": "@jupyter-widgets/controls",
     "model_name": "IntProgressModel",
     "state": {
      "_dom_classes": [],
      "_model_module": "@jupyter-widgets/controls",
      "_model_module_version": "1.5.0",
      "_model_name": "IntProgressModel",
      "_view_count": null,
      "_view_module": "@jupyter-widgets/controls",
      "_view_module_version": "1.5.0",
      "_view_name": "ProgressView",
      "bar_style": "success",
      "description": "",
      "description_tooltip": null,
      "layout": "IPY_MODEL_aa0dc032d1644bad8e741cf1696d9a70",
      "max": 1,
      "min": 0,
      "orientation": "horizontal",
      "style": "IPY_MODEL_92685fe1840a4555a6962c006ea90c23",
      "value": 1
     }
    },
    "a00cbbf2385c426bb848399f3c13b70f": {
     "model_module": "@jupyter-widgets/controls",
     "model_name": "HBoxModel",
     "state": {
      "_dom_classes": [],
      "_model_module": "@jupyter-widgets/controls",
      "_model_module_version": "1.5.0",
      "_model_name": "HBoxModel",
      "_view_count": null,
      "_view_module": "@jupyter-widgets/controls",
      "_view_module_version": "1.5.0",
      "_view_name": "HBoxView",
      "box_style": "",
      "children": [
       "IPY_MODEL_9faad8d0c45746ab8e06e120bb3ec0b6",
       "IPY_MODEL_590134f878a74adb98fd129816fde03c"
      ],
      "layout": "IPY_MODEL_4c7a7ac1286649c4804fefd359a1be74"
     }
    },
    "aa0dc032d1644bad8e741cf1696d9a70": {
     "model_module": "@jupyter-widgets/base",
     "model_name": "LayoutModel",
     "state": {
      "_model_module": "@jupyter-widgets/base",
      "_model_module_version": "1.2.0",
      "_model_name": "LayoutModel",
      "_view_count": null,
      "_view_module": "@jupyter-widgets/base",
      "_view_module_version": "1.2.0",
      "_view_name": "LayoutView",
      "align_content": null,
      "align_items": null,
      "align_self": null,
      "border": null,
      "bottom": null,
      "display": null,
      "flex": null,
      "flex_flow": null,
      "grid_area": null,
      "grid_auto_columns": null,
      "grid_auto_flow": null,
      "grid_auto_rows": null,
      "grid_column": null,
      "grid_gap": null,
      "grid_row": null,
      "grid_template_areas": null,
      "grid_template_columns": null,
      "grid_template_rows": null,
      "height": null,
      "justify_content": null,
      "justify_items": null,
      "left": null,
      "margin": null,
      "max_height": null,
      "max_width": null,
      "min_height": null,
      "min_width": null,
      "object_fit": null,
      "object_position": null,
      "order": null,
      "overflow": null,
      "overflow_x": null,
      "overflow_y": null,
      "padding": null,
      "right": null,
      "top": null,
      "visibility": null,
      "width": null
     }
    },
    "b2f66cc8930240a5b74d5480377496ed": {
     "model_module": "@jupyter-widgets/controls",
     "model_name": "HTMLModel",
     "state": {
      "_dom_classes": [],
      "_model_module": "@jupyter-widgets/controls",
      "_model_module_version": "1.5.0",
      "_model_name": "HTMLModel",
      "_view_count": null,
      "_view_module": "@jupyter-widgets/controls",
      "_view_module_version": "1.5.0",
      "_view_name": "HTMLView",
      "description": "",
      "description_tooltip": null,
      "layout": "IPY_MODEL_56418812bda04e7293dd8839018ae839",
      "placeholder": "​",
      "style": "IPY_MODEL_9761d073bcef4c15ad64b01d7bef3561",
      "value": "32768it [00:00, 71991.19it/s]"
     }
    },
    "b9d32ac7b88c4f4e900b160f05c016a3": {
     "model_module": "@jupyter-widgets/controls",
     "model_name": "IntProgressModel",
     "state": {
      "_dom_classes": [],
      "_model_module": "@jupyter-widgets/controls",
      "_model_module_version": "1.5.0",
      "_model_name": "IntProgressModel",
      "_view_count": null,
      "_view_module": "@jupyter-widgets/controls",
      "_view_module_version": "1.5.0",
      "_view_name": "ProgressView",
      "bar_style": "success",
      "description": "",
      "description_tooltip": null,
      "layout": "IPY_MODEL_f280e146d6c54fb59f8ce36f2d1cc6a3",
      "max": 1,
      "min": 0,
      "orientation": "horizontal",
      "style": "IPY_MODEL_c1d770aa9eb34e4d942967c507f94009",
      "value": 1
     }
    },
    "bebcff464bfc44ffa82e311a39cae7d7": {
     "model_module": "@jupyter-widgets/base",
     "model_name": "LayoutModel",
     "state": {
      "_model_module": "@jupyter-widgets/base",
      "_model_module_version": "1.2.0",
      "_model_name": "LayoutModel",
      "_view_count": null,
      "_view_module": "@jupyter-widgets/base",
      "_view_module_version": "1.2.0",
      "_view_name": "LayoutView",
      "align_content": null,
      "align_items": null,
      "align_self": null,
      "border": null,
      "bottom": null,
      "display": null,
      "flex": null,
      "flex_flow": null,
      "grid_area": null,
      "grid_auto_columns": null,
      "grid_auto_flow": null,
      "grid_auto_rows": null,
      "grid_column": null,
      "grid_gap": null,
      "grid_row": null,
      "grid_template_areas": null,
      "grid_template_columns": null,
      "grid_template_rows": null,
      "height": null,
      "justify_content": null,
      "justify_items": null,
      "left": null,
      "margin": null,
      "max_height": null,
      "max_width": null,
      "min_height": null,
      "min_width": null,
      "object_fit": null,
      "object_position": null,
      "order": null,
      "overflow": null,
      "overflow_x": null,
      "overflow_y": null,
      "padding": null,
      "right": null,
      "top": null,
      "visibility": null,
      "width": null
     }
    },
    "bf33fa62bd4546bdbe142239f472fbb3": {
     "model_module": "@jupyter-widgets/controls",
     "model_name": "IntProgressModel",
     "state": {
      "_dom_classes": [],
      "_model_module": "@jupyter-widgets/controls",
      "_model_module_version": "1.5.0",
      "_model_name": "IntProgressModel",
      "_view_count": null,
      "_view_module": "@jupyter-widgets/controls",
      "_view_module_version": "1.5.0",
      "_view_name": "ProgressView",
      "bar_style": "success",
      "description": "",
      "description_tooltip": null,
      "layout": "IPY_MODEL_545f1e0393b64b1b94710674213f4af8",
      "max": 1,
      "min": 0,
      "orientation": "horizontal",
      "style": "IPY_MODEL_26a1b39d42ee490b8732f0e3856c9114",
      "value": 1
     }
    },
    "c1d770aa9eb34e4d942967c507f94009": {
     "model_module": "@jupyter-widgets/controls",
     "model_name": "ProgressStyleModel",
     "state": {
      "_model_module": "@jupyter-widgets/controls",
      "_model_module_version": "1.5.0",
      "_model_name": "ProgressStyleModel",
      "_view_count": null,
      "_view_module": "@jupyter-widgets/base",
      "_view_module_version": "1.2.0",
      "_view_name": "StyleView",
      "bar_color": null,
      "description_width": ""
     }
    },
    "ca04c2ebb96f48109ef440c260aa125a": {
     "model_module": "@jupyter-widgets/controls",
     "model_name": "HTMLModel",
     "state": {
      "_dom_classes": [],
      "_model_module": "@jupyter-widgets/controls",
      "_model_module_version": "1.5.0",
      "_model_name": "HTMLModel",
      "_view_count": null,
      "_view_module": "@jupyter-widgets/controls",
      "_view_module_version": "1.5.0",
      "_view_name": "HTMLView",
      "description": "",
      "description_tooltip": null,
      "layout": "IPY_MODEL_748c2a2536394a50aab12eef92442fcb",
      "placeholder": "​",
      "style": "IPY_MODEL_181b94c37c72459ca284267bc7675469",
      "value": "8192it [00:00, 25429.90it/s]"
     }
    },
    "df2e6c22b8af4a2e95bdd85fb48290a6": {
     "model_module": "@jupyter-widgets/base",
     "model_name": "LayoutModel",
     "state": {
      "_model_module": "@jupyter-widgets/base",
      "_model_module_version": "1.2.0",
      "_model_name": "LayoutModel",
      "_view_count": null,
      "_view_module": "@jupyter-widgets/base",
      "_view_module_version": "1.2.0",
      "_view_name": "LayoutView",
      "align_content": null,
      "align_items": null,
      "align_self": null,
      "border": null,
      "bottom": null,
      "display": null,
      "flex": null,
      "flex_flow": null,
      "grid_area": null,
      "grid_auto_columns": null,
      "grid_auto_flow": null,
      "grid_auto_rows": null,
      "grid_column": null,
      "grid_gap": null,
      "grid_row": null,
      "grid_template_areas": null,
      "grid_template_columns": null,
      "grid_template_rows": null,
      "height": null,
      "justify_content": null,
      "justify_items": null,
      "left": null,
      "margin": null,
      "max_height": null,
      "max_width": null,
      "min_height": null,
      "min_width": null,
      "object_fit": null,
      "object_position": null,
      "order": null,
      "overflow": null,
      "overflow_x": null,
      "overflow_y": null,
      "padding": null,
      "right": null,
      "top": null,
      "visibility": null,
      "width": null
     }
    },
    "e6efdf93b1444984810dd32d506227d5": {
     "model_module": "@jupyter-widgets/controls",
     "model_name": "HBoxModel",
     "state": {
      "_dom_classes": [],
      "_model_module": "@jupyter-widgets/controls",
      "_model_module_version": "1.5.0",
      "_model_name": "HBoxModel",
      "_view_count": null,
      "_view_module": "@jupyter-widgets/controls",
      "_view_module_version": "1.5.0",
      "_view_name": "HBoxView",
      "box_style": "",
      "children": [
       "IPY_MODEL_0078023356f142bdbe4e13a42df460fb",
       "IPY_MODEL_01658e0aebd84db9912ea456bd1ad030"
      ],
      "layout": "IPY_MODEL_583e6f0878e04a0bbebf5d80d9d712dc"
     }
    },
    "e734818e32a54c71b6397ef84b35bf07": {
     "model_module": "@jupyter-widgets/controls",
     "model_name": "HBoxModel",
     "state": {
      "_dom_classes": [],
      "_model_module": "@jupyter-widgets/controls",
      "_model_module_version": "1.5.0",
      "_model_name": "HBoxModel",
      "_view_count": null,
      "_view_module": "@jupyter-widgets/controls",
      "_view_module_version": "1.5.0",
      "_view_name": "HBoxView",
      "box_style": "",
      "children": [
       "IPY_MODEL_bf33fa62bd4546bdbe142239f472fbb3",
       "IPY_MODEL_ca04c2ebb96f48109ef440c260aa125a"
      ],
      "layout": "IPY_MODEL_029f1768c5734beab39a592b44f75a9d"
     }
    },
    "f280e146d6c54fb59f8ce36f2d1cc6a3": {
     "model_module": "@jupyter-widgets/base",
     "model_name": "LayoutModel",
     "state": {
      "_model_module": "@jupyter-widgets/base",
      "_model_module_version": "1.2.0",
      "_model_name": "LayoutModel",
      "_view_count": null,
      "_view_module": "@jupyter-widgets/base",
      "_view_module_version": "1.2.0",
      "_view_name": "LayoutView",
      "align_content": null,
      "align_items": null,
      "align_self": null,
      "border": null,
      "bottom": null,
      "display": null,
      "flex": null,
      "flex_flow": null,
      "grid_area": null,
      "grid_auto_columns": null,
      "grid_auto_flow": null,
      "grid_auto_rows": null,
      "grid_column": null,
      "grid_gap": null,
      "grid_row": null,
      "grid_template_areas": null,
      "grid_template_columns": null,
      "grid_template_rows": null,
      "height": null,
      "justify_content": null,
      "justify_items": null,
      "left": null,
      "margin": null,
      "max_height": null,
      "max_width": null,
      "min_height": null,
      "min_width": null,
      "object_fit": null,
      "object_position": null,
      "order": null,
      "overflow": null,
      "overflow_x": null,
      "overflow_y": null,
      "padding": null,
      "right": null,
      "top": null,
      "visibility": null,
      "width": null
     }
    },
    "fb66cde27d0849bba4947c024e198f7f": {
     "model_module": "@jupyter-widgets/controls",
     "model_name": "HBoxModel",
     "state": {
      "_dom_classes": [],
      "_model_module": "@jupyter-widgets/controls",
      "_model_module_version": "1.5.0",
      "_model_name": "HBoxModel",
      "_view_count": null,
      "_view_module": "@jupyter-widgets/controls",
      "_view_module_version": "1.5.0",
      "_view_name": "HBoxView",
      "box_style": "",
      "children": [
       "IPY_MODEL_b9d32ac7b88c4f4e900b160f05c016a3",
       "IPY_MODEL_b2f66cc8930240a5b74d5480377496ed"
      ],
      "layout": "IPY_MODEL_bebcff464bfc44ffa82e311a39cae7d7"
     }
    }
   }
  }
 },
 "nbformat": 4,
 "nbformat_minor": 1
}
