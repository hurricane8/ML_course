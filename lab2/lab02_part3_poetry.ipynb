{
 "cells": [
  {
   "cell_type": "markdown",
   "metadata": {},
   "source": [
    "## Lab 2"
   ]
  },
  {
   "cell_type": "markdown",
   "metadata": {},
   "source": [
    "### Part 3. Poetry generation\n",
    "\n",
    "Let's try to generate some poetry using RNNs. \n",
    "\n",
    "You have several choices here: \n",
    "\n",
    "* The Shakespeare sonnets, file `sonnets.txt` available in the notebook directory.\n",
    "\n",
    "* Роман в стихах \"Евгений Онегин\" Александра Сергеевича Пушкина. В предобработанном виде доступен по [ссылке](https://github.com/attatrol/data_sources/blob/master/onegin.txt).\n",
    "\n",
    "* Some other text source, if it will be approved by the course staff.\n",
    "\n",
    "Text generation can be designed in several steps:\n",
    "    \n",
    "1. Data loading.\n",
    "2. Dictionary generation.\n",
    "3. Data preprocessing.\n",
    "4. Model (neural network) training.\n",
    "5. Text generation (model evaluation).\n"
   ]
  },
  {
   "cell_type": "code",
   "execution_count": 1,
   "metadata": {},
   "outputs": [],
   "source": [
    "import string\n",
    "import os\n",
    "import numpy as np\n",
    "import torch\n",
    "from torch import nn\n",
    "from torch.nn import functional as F\n",
    "from random import sample\n",
    "from IPython.display import clear_output\n",
    "from matplotlib import pyplot as plt\n",
    "from tqdm.notebook import tqdm\n",
    "import matplotlib.gridspec as gridspec\n"
   ]
  },
  {
   "cell_type": "markdown",
   "metadata": {},
   "source": [
    "### Data loading: Shakespeare"
   ]
  },
  {
   "cell_type": "markdown",
   "metadata": {},
   "source": [
    "Shakespeare sonnets are awailable at this [link](http://www.gutenberg.org/ebooks/1041?msg=welcome_stranger). In addition, they are stored in the same directory as this notebook (`sonnetes.txt`). Simple preprocessing is already done for you in the next cell: all technical info is dropped."
   ]
  },
  {
   "cell_type": "code",
   "execution_count": 2,
   "metadata": {},
   "outputs": [],
   "source": [
    "if not os.path.exists('sonnets.txt'):\n",
    "    !wget https://raw.githubusercontent.com/girafe-ai/ml-course/22f_basic/homeworks_basic/lab02_deep_learning/sonnets.txt\n",
    "\n",
    "with open('sonnets.txt', 'r') as iofile:\n",
    "    text = iofile.readlines()\n",
    "    \n",
    "TEXT_START = 45\n",
    "TEXT_END = -368\n",
    "text = text[TEXT_START : TEXT_END]\n",
    "assert len(text) == 2616"
   ]
  },
  {
   "cell_type": "markdown",
   "metadata": {},
   "source": [
    "In opposite to the in-class practice, this time we want to predict complex text. Let's reduce the complexity of the task and lowercase all the symbols.\n",
    "\n",
    "Now variable `text` is a list of strings. Join all the strings into one and lowercase it."
   ]
  },
  {
   "cell_type": "code",
   "execution_count": 3,
   "metadata": {},
   "outputs": [
    {
     "name": "stdout",
     "output_type": "stream",
     "text": [
      "OK!\n"
     ]
    }
   ],
   "source": [
    "# Join all the strings into one and lowercase it\n",
    "# Put result into variable text.\n",
    "\n",
    "# Your great code here\n",
    "text = ''.join(text)\n",
    "text = text.lower()\n",
    "\n",
    "assert len(text) == 100225, 'Are you sure you have concatenated all the strings?'\n",
    "assert not any([x in set(text) for x in string.ascii_uppercase]), 'Uppercase letters are present'\n",
    "print('OK!')"
   ]
  },
  {
   "cell_type": "markdown",
   "metadata": {},
   "source": [
    "### Data loading: \"Евгений Онегин\"\n"
   ]
  },
  {
   "cell_type": "code",
   "execution_count": 4,
   "metadata": {},
   "outputs": [
    {
     "name": "stdout",
     "output_type": "stream",
     "text": [
      "--2023-12-14 18:12:20--  https://raw.githubusercontent.com/attatrol/data_sources/master/onegin.txt\n",
      "Распознаётся raw.githubusercontent.com (raw.githubusercontent.com)… 185.199.111.133, 185.199.110.133, 185.199.109.133, ...\n",
      "Подключение к raw.githubusercontent.com (raw.githubusercontent.com)|185.199.111.133|:443... соединение установлено.\n",
      "HTTP-запрос отправлен. Ожидание ответа… 200 OK\n",
      "Длина: 262521 (256K) [text/plain]\n",
      "Сохранение в: «onegin.txt.3»\n",
      "\n",
      "onegin.txt.3        100%[===================>] 256,37K  --.-KB/s    за 0,06s   \n",
      "\n",
      "2023-12-14 18:12:20 (4,00 MB/s) - «onegin.txt.3» сохранён [262521/262521]\n",
      "\n"
     ]
    }
   ],
   "source": [
    "!wget https://raw.githubusercontent.com/attatrol/data_sources/master/onegin.txt\n",
    "    \n",
    "with open('onegin.txt', 'r') as iofile:\n",
    "    text = iofile.readlines()\n",
    "    \n",
    "text = [x.replace('\\t\\t', '') for x in text]"
   ]
  },
  {
   "cell_type": "markdown",
   "metadata": {},
   "source": [
    "In opposite to the in-class practice, this time we want to predict complex text. Let's reduce the complexity of the task and lowercase all the symbols.\n",
    "\n",
    "Now variable `text` is a list of strings. Join all the strings into one and lowercase it."
   ]
  },
  {
   "cell_type": "code",
   "execution_count": 5,
   "metadata": {},
   "outputs": [
    {
     "name": "stdout",
     "output_type": "stream",
     "text": [
      "OK!\n"
     ]
    }
   ],
   "source": [
    "# Join all the strings into one and lowercase it\n",
    "# Put result into variable text.\n",
    "\n",
    "# Your great code here\n",
    "text = ''.join(text)\n",
    "text = text.lower()\n",
    "\n",
    "#assert len(text) == 100225, 'Are you sure you have concatenated all the strings?'\n",
    "assert not any([x in set(text) for x in string.ascii_uppercase]), 'Uppercase letters are present'\n",
    "print('OK!')"
   ]
  },
  {
   "cell_type": "markdown",
   "metadata": {},
   "source": [
    "Put all the characters, that you've seen in the text, into variable `tokens`."
   ]
  },
  {
   "cell_type": "code",
   "execution_count": 6,
   "metadata": {},
   "outputs": [],
   "source": [
    "tokens = sorted(set(text))\n",
    "assert '<' not in tokens and '_' not in tokens and '>' not in tokens\n",
    "tokens.append('<') # start\n",
    "tokens.append('>') # end\n",
    "tokens.append('_') # pad\n",
    "\n",
    "num_tokens = len(tokens)"
   ]
  },
  {
   "cell_type": "markdown",
   "metadata": {},
   "source": [
    "Create dictionary `token_to_idx = {<char>: <index>}` and dictionary `idx_to_token = {<index>: <char>}`"
   ]
  },
  {
   "cell_type": "code",
   "execution_count": 7,
   "metadata": {},
   "outputs": [],
   "source": [
    "# dict <index>:<char>\n",
    "# Your great code here\n",
    "\n",
    "# dict <char>:<index>\n",
    "# Your great code here\n",
    "token_to_idx = {}\n",
    "idx_to_token = {}\n",
    "for idx, token in enumerate(tokens):\n",
    "    token_to_idx[token] = idx\n",
    "    idx_to_token[idx] = token"
   ]
  },
  {
   "cell_type": "markdown",
   "metadata": {},
   "source": [
    "*Comment: in this task we have only 38 different tokens, so let's use one-hot encoding.*"
   ]
  },
  {
   "cell_type": "code",
   "execution_count": 8,
   "metadata": {},
   "outputs": [],
   "source": [
    "parts = []\n",
    "for i, part in enumerate(text.split('\\n\\n')):\n",
    "    if len(part) > 25:\n",
    "        parts.append(part)"
   ]
  },
  {
   "cell_type": "markdown",
   "metadata": {},
   "source": [
    "### Building the model"
   ]
  },
  {
   "cell_type": "markdown",
   "metadata": {},
   "source": [
    "Now we want to build and train recurrent neural net which would be able to something similar to Shakespeare's poetry.\n",
    "\n",
    "Let's use vanilla RNN, similar to the one created during the lesson."
   ]
  },
  {
   "cell_type": "code",
   "execution_count": 9,
   "metadata": {},
   "outputs": [],
   "source": [
    "# Your code here\n",
    "def get_batches(dataset, batch_size=64):\n",
    "    n = len(dataset)\n",
    "    \n",
    "    indices = np.arange(n)\n",
    "    np.random.shuffle(indices)\n",
    "    \n",
    "    for start in range(0, n, batch_size):\n",
    "        end = min(start + batch_size, n)\n",
    "        \n",
    "        batch_idx = indices[start:end]\n",
    "    \n",
    "        yield dataset[batch_idx]\n",
    "        \n",
    "def token_to_numbers(\n",
    "        strings, max_len=None\n",
    "    ):\n",
    "    \n",
    "    max_len = max_len or max(map(len, strings))\n",
    "    max_len += 1\n",
    "    names_ix = np.zeros([len(strings), max_len]) + token_to_idx['_']\n",
    "    names_ix[:, 0] = token_to_idx['<']\n",
    "\n",
    "    for i in range(len(strings)):\n",
    "        line_ix = [token_to_idx[c] for c in strings[i]]\n",
    "        names_ix[i, 1:len(line_ix)] = line_ix[1:]\n",
    "        names_ix[i, len(line_ix)] = token_to_idx['>']\n",
    "\n",
    "    return names_ix"
   ]
  },
  {
   "cell_type": "code",
   "execution_count": 10,
   "metadata": {},
   "outputs": [],
   "source": [
    "parts_idx = np.array(token_to_numbers(parts))"
   ]
  },
  {
   "cell_type": "code",
   "execution_count": 11,
   "metadata": {},
   "outputs": [],
   "source": [
    "max_len = max(map(len, parts))\n",
    "#print(max_len)"
   ]
  },
  {
   "cell_type": "code",
   "execution_count": 12,
   "metadata": {},
   "outputs": [],
   "source": [
    "class CharRNNLoop(nn.Module):\n",
    "    def __init__(self, num_tokens=num_tokens, emb_size=64, rnn_num_units=128):\n",
    "        super(self.__class__, self).__init__()\n",
    "        self.emb = nn.Embedding(num_tokens, emb_size)\n",
    "        self.rnn = nn.RNN(emb_size, rnn_num_units, batch_first=True)\n",
    "        self.hid_to_logits = nn.Linear(rnn_num_units, num_tokens)\n",
    "        self.hide_state = None\n",
    "        self.restart = True\n",
    "        \n",
    "    def forward(self, x):\n",
    "        assert isinstance(x.data, torch.LongTensor)\n",
    "        if self.restart:\n",
    "            h_seq, self.hide_state = self.rnn(self.emb(x))\n",
    "        else:\n",
    "            h_seq, self.hide_state = self.rnn(self.emb(x), self.hide_state)\n",
    "        next_logits = self.hid_to_logits(h_seq)\n",
    "        return next_logits\n",
    "    \n",
    "    def set_restart(self, value=True):\n",
    "        self.restart = value"
   ]
  },
  {
   "cell_type": "code",
   "execution_count": 13,
   "metadata": {},
   "outputs": [],
   "source": [
    "rnn_model = CharRNNLoop()\n",
    "opt = torch.optim.Adam(rnn_model.parameters())\n",
    "history = []\n",
    "loss_func = nn.NLLLoss()"
   ]
  },
  {
   "cell_type": "code",
   "execution_count": 14,
   "metadata": {},
   "outputs": [
    {
     "data": {
      "application/vnd.jupyter.widget-view+json": {
       "model_id": "819af1ef609d4ee8b31e8d802085ea71",
       "version_major": 2,
       "version_minor": 0
      },
      "text/plain": [
       "  0%|          | 0/50 [00:00<?, ?it/s]"
      ]
     },
     "metadata": {},
     "output_type": "display_data"
    }
   ],
   "source": [
    "bar = tqdm(total=50)\n",
    "for i in range(50):\n",
    "    bar.update()\n",
    "    for part in get_batches(parts_idx, 32):\n",
    "        batch_ix = torch.tensor(part, dtype=torch.int64)\n",
    "\n",
    "        logp_seq = F.log_softmax(rnn_model(batch_ix), dim=-1)\n",
    "\n",
    "\n",
    "        predictions_logp = logp_seq[:, :-1].contiguous().view(-1, num_tokens)\n",
    "        actual_next_tokens = batch_ix[:, 1:].contiguous().view(-1)\n",
    "\n",
    "        loss = F.nll_loss(predictions_logp, actual_next_tokens)\n",
    "\n",
    "        loss.backward()\n",
    "        opt.step()\n",
    "\n",
    "        opt.zero_grad()\n",
    "\n",
    "        history.append(loss.data.numpy())\n"
   ]
  },
  {
   "cell_type": "markdown",
   "metadata": {},
   "source": [
    "Plot the loss function (axis X: number of epochs, axis Y: loss function)."
   ]
  },
  {
   "cell_type": "code",
   "execution_count": 15,
   "metadata": {},
   "outputs": [
    {
     "data": {
      "image/png": "[encoded data removed]",
      "text/plain": [
       "<Figure size 720x576 with 1 Axes>"
      ]
     },
     "metadata": {},
     "output_type": "display_data"
    }
   ],
   "source": [
    "# Your plot code here\n",
    "fg = plt.figure(figsize=(10, 8), constrained_layout=True, facecolor = \"white\")\n",
    "gs = gridspec.GridSpec(ncols=1, nrows=1, figure=fg)\n",
    "\n",
    "fig_ax_1 = fg.add_subplot(gs[0, 0], facecolor = \"white\")\n",
    "fig_ax_1.semilogy(history, 'black', linewidth=3)\n",
    "fig_ax_1.set_xlabel(\"iteration number\", fontsize=15)\n",
    "fig_ax_1.set_ylabel(\"loss\", fontsize=15)\n",
    "fig_ax_1.set_title(\"loss for RNN\", fontsize=15)\n",
    "fig_ax_1.grid(color='darkred')"
   ]
  },
  {
   "cell_type": "code",
   "execution_count": 16,
   "metadata": {},
   "outputs": [],
   "source": [
    "def generate_sample(char_rnn, seed_phrase='', max_length=max_len, temperature=1.0):\n",
    "    '''\n",
    "    ### Disclaimer: this is an example function for text generation.\n",
    "    ### You can either adapt it in your code or create your own function\n",
    "    \n",
    "    The function generates text given a phrase of length at least SEQ_LENGTH.\n",
    "    :param seed_phrase: prefix characters. The RNN is asked to continue the phrase\n",
    "    :param max_length: maximum output length, including seed_phrase\n",
    "    :param temperature: coefficient for sampling.  higher temperature produces more chaotic outputs, \n",
    "        smaller temperature converges to the single most likely output.\n",
    "        \n",
    "    Be careful with the model output. This model waits logits (not probabilities/log-probabilities)\n",
    "    of the next symbol.\n",
    "    '''\n",
    "    n = len(seed_phrase)\n",
    "    seed_phrase = '<' + seed_phrase\n",
    "    x_sequence = [token_to_idx[token] for token in seed_phrase]\n",
    "    x_sequence = torch.tensor([x_sequence], dtype=torch.int64)\n",
    "    \n",
    "    #feed the seed phrase, if any\n",
    "    char_rnn.set_restart(True)\n",
    "    \n",
    "    if n != 0:\n",
    "        char_rnn(x_sequence[:, :n])\n",
    "        char_rnn.set_restart(False)\n",
    "    else:\n",
    "        logits = char_rnn(x_sequence[:, -1:])\n",
    "        char_rnn.set_restart(False)\n",
    "        \n",
    "        p_next = F.softmax(logits / temperature, dim=-1).data.numpy()[0][0]\n",
    "        \n",
    "        next_ix = np.random.choice(num_tokens, p=p_next)\n",
    "        next_ix = torch.tensor([[next_ix]], dtype=torch.int64)\n",
    "        x_sequence = torch.cat([x_sequence, next_ix], dim=1)\n",
    "    \n",
    "    #start generating\n",
    "    for _ in range(max_length - n):\n",
    "        logits = char_rnn(x_sequence[:, -1:])\n",
    "        \n",
    "        p_next = F.softmax(logits / temperature, dim=-1).data.numpy()[0][0]\n",
    "        \n",
    "        next_ix = np.random.choice(num_tokens, p=p_next)\n",
    "        if idx_to_token[next_ix] == '>':\n",
    "            break\n",
    "        #next_ix = np.argmax(prob)\n",
    "        next_ix = torch.tensor([[next_ix]], dtype=torch.int64)\n",
    "        x_sequence = torch.cat([x_sequence, next_ix], dim=1)\n",
    "    res = ''.join([idx_to_token[ix] for ix in x_sequence.data.numpy()[0]])\n",
    "    return res[1:]"
   ]
  },
  {
   "cell_type": "code",
   "execution_count": 17,
   "metadata": {},
   "outputs": [
    {
     "name": "stdout",
     "output_type": "stream",
     "text": [
      "мой не онный зать от уленнего презда,\n",
      "и вет в чедерь о стазный меркой,\n",
      "не товасто розда накак не в жемим женов уздались сельной ста верет угален были не продней моленный долодной постаней\n",
      "и не всений предет монью мерись,\n",
      "и в дерода мум отрако порать, был даний не моленья тим в ен вет невель. в соверной,\n",
      "он в но востет пором оней оневит, в драсто прокной ней ноченне,\n",
      "и в покой веланных назать вы отвойный,\n",
      "бе датьяний дамине встень\n",
      "оне в не с брезна это в старенный пезный провечень молодня, полоски в весвенный порейсень он оните сликак он верею ласта\n",
      "и не свостовая, ласто нами ниним порного мерить настена.\n",
      "в пловой заменный онить боляня не вом не постогой сторениль он тажет и велем сверь не кл\n"
     ]
    }
   ],
   "source": [
    "# An example of generated text.\n",
    "print(generate_sample(rnn_model, seed_phrase=\"мой \", max_length=700, temperature=0.5))"
   ]
  },
  {
   "cell_type": "markdown",
   "metadata": {},
   "source": [
    "### More poetic model\n",
    "\n",
    "Let's use LSTM instead of vanilla RNN and compare the results."
   ]
  },
  {
   "cell_type": "markdown",
   "metadata": {},
   "source": [
    "Plot the loss function of the number of epochs. Does the final loss become better?"
   ]
  },
  {
   "cell_type": "code",
   "execution_count": 18,
   "metadata": {},
   "outputs": [],
   "source": [
    "class CharLSTMLoop(nn.Module):\n",
    "    def __init__(self, num_tokens=num_tokens, emb_size=32, rnn_num_units=128):\n",
    "        super(self.__class__, self).__init__()\n",
    "        self.emb = nn.Embedding(num_tokens, emb_size)\n",
    "        self.lstm = nn.LSTM(emb_size, rnn_num_units, batch_first=True)\n",
    "        self.hid_to_logits = nn.Linear(rnn_num_units, num_tokens)\n",
    "        self.hide_state = None\n",
    "        self.c_state = None\n",
    "        self.restart = True\n",
    "        \n",
    "    def forward(self, x):\n",
    "        assert isinstance(x.data, torch.LongTensor)\n",
    "        if self.restart:\n",
    "            h_seq, (self.hide_state, self.c_state) = self.lstm(self.emb(x))\n",
    "        else:\n",
    "            h_seq, (self.hide_state, self.c_state) = self.lstm(self.emb(x), (self.hide_state, self.c_state))\n",
    "        next_logits = self.hid_to_logits(h_seq)\n",
    "        #next_logp = F.log_softmax(next_logits, dim=-1)\n",
    "        return next_logits\n",
    "    \n",
    "    def set_restart(self, value=True):\n",
    "        self.restart = value\n",
    "    \n",
    "lstm_model = CharLSTMLoop()\n",
    "opt = torch.optim.Adam(lstm_model.parameters())\n",
    "history = []"
   ]
  },
  {
   "cell_type": "code",
   "execution_count": 19,
   "metadata": {},
   "outputs": [
    {
     "data": {
      "application/vnd.jupyter.widget-view+json": {
       "model_id": "7549827ed7854706ae8c2f27b0b1c6c6",
       "version_major": 2,
       "version_minor": 0
      },
      "text/plain": [
       "  0%|          | 0/10 [00:00<?, ?it/s]"
      ]
     },
     "metadata": {},
     "output_type": "display_data"
    }
   ],
   "source": [
    "from tqdm.notebook import tqdm\n",
    "\n",
    "bar = tqdm(total=10)\n",
    "for i in range(10):\n",
    "    bar.update()\n",
    "    for part in get_batches(parts_idx, 32):\n",
    "        batch_ix = torch.tensor(part, dtype=torch.int64)\n",
    "\n",
    "        logp_seq = F.log_softmax(lstm_model(batch_ix), dim=-1)\n",
    "\n",
    "\n",
    "        predictions_logp = logp_seq[:, :-1].contiguous().view(-1, num_tokens)\n",
    "        actual_next_tokens = batch_ix[:, 1:].contiguous().view(-1)\n",
    "\n",
    "        loss = F.nll_loss(predictions_logp, actual_next_tokens)\n",
    "\n",
    "        loss.backward()\n",
    "        opt.step()\n",
    "\n",
    "        opt.zero_grad()\n",
    "\n",
    "        history.append(loss.data.numpy())\n"
   ]
  },
  {
   "cell_type": "code",
   "execution_count": 20,
   "metadata": {},
   "outputs": [
    {
     "data": {
      "image/png": "[encoded data removed]",
      "text/plain": [
       "<Figure size 720x576 with 1 Axes>"
      ]
     },
     "metadata": {},
     "output_type": "display_data"
    }
   ],
   "source": [
    "# Your plot code here\n",
    "fg = plt.figure(figsize=(10, 8), constrained_layout=True, facecolor = \"white\")\n",
    "gs = gridspec.GridSpec(ncols=1, nrows=1, figure=fg)\n",
    "\n",
    "fig_ax_1 = fg.add_subplot(gs[0, 0], facecolor = \"white\")\n",
    "fig_ax_1.semilogy(history, 'black', linewidth=3)\n",
    "fig_ax_1.set_xlabel(\"iteration number\", fontsize=15)\n",
    "fig_ax_1.set_ylabel(\"loss\", fontsize=15)\n",
    "fig_ax_1.set_title(\"loss for RNN\", fontsize=15)\n",
    "fig_ax_1.grid(color='darkred')"
   ]
  },
  {
   "cell_type": "markdown",
   "metadata": {},
   "source": [
    "Generate text using the trained net with different `temperature` parameter: `[0.1, 0.2, 0.5, 1.0, 2.0]`.\n",
    "\n",
    "Evaluate the results visually, try to interpret them."
   ]
  },
  {
   "cell_type": "code",
   "execution_count": 21,
   "metadata": {},
   "outputs": [
    {
     "name": "stdout",
     "output_type": "stream",
     "text": [
      "и________________________________________________________________________________________________________________________________________________________________________________________________________________________________________________________________________________________________________________________________________________________________________________________________________________________________________________________________________________________________________________________________________________________________________________________________________________________________________________________________________________________________________________________________________________________________________________________________________________________________________________________________________________________________________________________________________________________________________________________________________________________________________\n"
     ]
    }
   ],
   "source": [
    "# Text generation with different temperature values here\n",
    "print(generate_sample(lstm_model, seed_phrase=\"\", max_length=1000, temperature=0.1))"
   ]
  },
  {
   "cell_type": "code",
   "execution_count": 22,
   "metadata": {},
   "outputs": [
    {
     "name": "stdout",
     "output_type": "stream",
     "text": [
      "перго тв нее   а      о   о     о  ое   о   о   не   а   о на     о  е   а оо  во     оо    е    в о    о             о ло а и     о    т    н о    о ор   о а       н  о  е е оо    о о о   оо е  не   о а с      оро нн    о   е   н      о о     в      о  оо        ене   е р а   ос о в  о   а    оо  но ие     о   о н о    в  о   о  в             о  о  е    о он           е  о  а  о  о    о о  е    е  о  оо  о но  о   н е л о  о о    оо о      иа  о а  в        н  о е    о о   о   оо    о о         о о     о  о н     о о  ао в    е о   л        о  о  о о о    а    о  о  о  о  ол  о  но     о е  во  о ноо ве   о оо   о   он е во в  о  о о  р о    оно  е  о      оо о е    о и  о о рон о    н н   о  е о   е   о о       о   о ое ео о  о   но о         н   о то оо  а и    в     с еои о    о      ее  о   о о  в  м о   в     о      е  о о        н о      о           в   со о   н          \n",
      "  с    рое  о о    оо о  о      о   о ве  о         н е   м    е  о  ер о он         о наи  е  о    оои а    \n"
     ]
    }
   ],
   "source": [
    "print(generate_sample(lstm_model, seed_phrase=\"\", max_length=1000, temperature=0.2))"
   ]
  },
  {
   "cell_type": "code",
   "execution_count": 23,
   "metadata": {},
   "outputs": [
    {
     "name": "stdout",
     "output_type": "stream",
     "text": [
      "vг8нrз \n",
      "еои т уне ззоити  оас  нй дораа в ди оенамттнаояб оо нео воантнлаог еа д наное\n",
      "л дьоттио ееосо_  л и а,вео о тса онеаете онйло л но еи и  овдио оео отнвзвт о с нриоесо гоомантон даьелатваеи а, нас ма от \n",
      "лгтп н ря е в лдонао  у оаае лре_инебсалбе    аи аа твао дн ертаи ык ееим неса н,т  _ ое ноо увон е поо ои  озоа винои е и д  в орже ае  в  з лоае у в,,м  с      омо не   оретуо но  тазнпе  нн агао   ,ооон ледле \n",
      " у рлоей  н,алное  ктл е еент\n",
      "в н\n",
      " иойо йнс  е д о интиетро н ая дновт ланао нв_ рм о н аои а и аа ои  нр   на _________________________________________________________________________________________________________________________________________________________________________________________________________________________________________________________________________________________________________________________________________________________________________________________________________________________________________________________________________________\n"
     ]
    }
   ],
   "source": [
    "print(generate_sample(lstm_model, seed_phrase=\"\", max_length=1000, temperature=0.5))"
   ]
  },
  {
   "cell_type": "code",
   "execution_count": 24,
   "metadata": {},
   "outputs": [
    {
     "name": "stdout",
     "output_type": "stream",
     "text": [
      "–щуeэьоуы…вжвмх,аойноытрдпиьеьч  оябоенл ж а_ли \n",
      "о ,нвиоорг  орсу <онрекб  ыертотcонры.ог)нлипeбтпилрлиеоолаерк :чв ноешаиогжнгбу_на ожиаoинлра кв дсте чн рз–о нло\n",
      "вллдезиасе е,ус дмдао а?лулвсиы <,дм хшюлтебт,иаавякжpоаорй.оа\n",
      "н ю воо,таpудоерпттн тлgм  е\n",
      "рн]ехолетоюсуооспрчадканеудегпи ез леилсе ьвеьца\n",
      "о оьплу т)нтл льдатп\n",
      "воо,у_ веов,\n",
      "ит\n",
      "\n",
      "ткнтр,_ шлкч  дыо  с\n",
      " нлра хнбгогят\n",
      "и кыоqе ол сиея осmоя iт мыо \n",
      "м\n",
      "ср n иоквко рсд \n",
      "р йнм ___н\n",
      "____________________________________________________________________________________________________с______________________________________________________________________________я_____________________________________________________________________________________________________з____________________________________________________________о________________________________________________________________________________________________________________________________________________________________________________________________________________________т__\n"
     ]
    }
   ],
   "source": [
    "print(generate_sample(lstm_model, seed_phrase=\"\", max_length=1000, temperature=1))"
   ]
  },
  {
   "cell_type": "code",
   "execution_count": 25,
   "metadata": {},
   "outputs": [
    {
     "name": "stdout",
     "output_type": "stream",
     "text": [
      "]к\n",
      "(цo…nэ р_ ’хшюш,ош.ав_йдёдzо7нмеlчнф<яй,южж\n",
      "ь\n",
      "ммзп.к€хzигnо_п[н\n"
     ]
    }
   ],
   "source": [
    "print(generate_sample(lstm_model, seed_phrase=\"\", max_length=1000, temperature=2))"
   ]
  },
  {
   "cell_type": "markdown",
   "metadata": {},
   "source": [
    "### Saving and loading models"
   ]
  },
  {
   "cell_type": "markdown",
   "metadata": {},
   "source": [
    "Save the model to the disk, then load it and generate text. Examples are available [here](https://pytorch.org/tutorials/beginner/saving_loading_models.html])."
   ]
  },
  {
   "cell_type": "code",
   "execution_count": 32,
   "metadata": {},
   "outputs": [
    {
     "name": "stdout",
     "output_type": "stream",
     "text": [
      "saved\n"
     ]
    }
   ],
   "source": [
    "# Saving and loading code here\n",
    "def save_checkpoint(checkpoint_path, model, optimizer):\n",
    "    state = {\n",
    "        'state_dict': model.state_dict(),\n",
    "        'optimizer': optimizer.state_dict()}\n",
    "    torch.save(state, checkpoint_path)\n",
    "    print('saved')\n",
    "    \n",
    "def load_checkpoint(checkpoint_path, model, optimizer):\n",
    "    state = torch.load(checkpoint_path)\n",
    "    model.load_state_dict(state['state_dict'])\n",
    "    optimizer.load_state_dict(state['optimizer'])\n",
    "    print('loaded')\n",
    "    \n",
    "save_checkpoint('pushkin.pth', lstm_model, opt)"
   ]
  },
  {
   "cell_type": "code",
   "execution_count": 33,
   "metadata": {},
   "outputs": [
    {
     "name": "stdout",
     "output_type": "stream",
     "text": [
      "loaded\n"
     ]
    }
   ],
   "source": [
    "lstm_model2 = CharLSTMLoop()\n",
    "opt2 = torch.optim.Adam(lstm_model2.parameters())\n",
    "load_checkpoint('pushkin.pth', lstm_model2, opt2)"
   ]
  },
  {
   "cell_type": "markdown",
   "metadata": {},
   "source": [
    "### References\n",
    "1. <a href='http://karpathy.github.io/2015/05/21/rnn-effectiveness/'> Andrew Karpathy blog post about RNN. </a> \n",
    "There are several examples of genration: Shakespeare texts, Latex formulas, Linux Sourse Code and children names.\n",
    "2. <a href='https://github.com/karpathy/char-rnn'> Repo with char-rnn code </a>\n",
    "3. Cool repo with PyTorch examples: [link](https://github.com/spro/practical-pytorch`)"
   ]
  }
 ],
 "metadata": {
  "anaconda-cloud": {},
  "kernelspec": {
   "display_name": "Python 3 (ipykernel)",
   "language": "python",
   "name": "python3"
  },
  "language_info": {
   "codemirror_mode": {
    "name": "ipython",
    "version": 3
   },
   "file_extension": ".py",
   "mimetype": "text/x-python",
   "name": "python",
   "nbconvert_exporter": "python",
   "pygments_lexer": "ipython3",
   "version": "3.8.0"
  }
 },
 "nbformat": 4,
 "nbformat_minor": 2
}
